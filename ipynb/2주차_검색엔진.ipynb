{
 "cells": [
  {
   "cell_type": "markdown",
   "id": "bb3669de-4e93-4279-b52c-90eddc0bbc69",
   "metadata": {},
   "source": [
    "### Text Search"
   ]
  },
  {
   "cell_type": "code",
   "execution_count": 3,
   "id": "1c8acdef-12b2-4c9e-a08f-9ee4a6a50118",
   "metadata": {
    "scrolled": true
   },
   "outputs": [
    {
     "name": "stdout",
     "output_type": "stream",
     "text": [
      "\u001b[33mDEPRECATION: Configuring installation scheme with distutils config files is deprecated and will no longer work in the near future. If you are using a Homebrew or Linuxbrew Python, please see discussion at https://github.com/Homebrew/homebrew-core/issues/76621\u001b[0m\u001b[33m\n",
      "\u001b[0mCollecting elasticsearch\n",
      "  Downloading elasticsearch-8.15.1-py3-none-any.whl.metadata (8.7 kB)\n",
      "Collecting elastic-transport<9,>=8.13 (from elasticsearch)\n",
      "  Downloading elastic_transport-8.15.1-py3-none-any.whl.metadata (3.7 kB)\n",
      "Requirement already satisfied: urllib3<3,>=1.26.2 in /Users/kihyunwon/Library/Python/3.9/lib/python/site-packages (from elastic-transport<9,>=8.13->elasticsearch) (1.26.6)\n",
      "Requirement already satisfied: certifi in /Users/kihyunwon/Library/Python/3.9/lib/python/site-packages (from elastic-transport<9,>=8.13->elasticsearch) (2023.7.22)\n",
      "Downloading elasticsearch-8.15.1-py3-none-any.whl (524 kB)\n",
      "\u001b[2K   \u001b[38;2;114;156;31m━━━━━━━━━━━━━━━━━━━━━━━━━━━━━━━━━━━━━━━━\u001b[0m \u001b[32m524.6/524.6 kB\u001b[0m \u001b[31m14.5 MB/s\u001b[0m eta \u001b[36m0:00:00\u001b[0m\n",
      "\u001b[?25hDownloading elastic_transport-8.15.1-py3-none-any.whl (64 kB)\n",
      "Installing collected packages: elastic-transport, elasticsearch\n",
      "\u001b[33m  DEPRECATION: Configuring installation scheme with distutils config files is deprecated and will no longer work in the near future. If you are using a Homebrew or Linuxbrew Python, please see discussion at https://github.com/Homebrew/homebrew-core/issues/76621\u001b[0m\u001b[33m\n",
      "\u001b[0m\u001b[33m  DEPRECATION: Configuring installation scheme with distutils config files is deprecated and will no longer work in the near future. If you are using a Homebrew or Linuxbrew Python, please see discussion at https://github.com/Homebrew/homebrew-core/issues/76621\u001b[0m\u001b[33m\n",
      "\u001b[0m\u001b[33mDEPRECATION: Configuring installation scheme with distutils config files is deprecated and will no longer work in the near future. If you are using a Homebrew or Linuxbrew Python, please see discussion at https://github.com/Homebrew/homebrew-core/issues/76621\u001b[0m\u001b[33m\n",
      "\u001b[0mSuccessfully installed elastic-transport-8.15.1 elasticsearch-8.15.1\n"
     ]
    }
   ],
   "source": [
    "# Install Elasticsearch client\n",
    "# ! pip3 install elasticsearch"
   ]
  },
  {
   "cell_type": "code",
   "execution_count": 8,
   "id": "0179acf3-4c2b-4d2d-a475-43ef883fbed9",
   "metadata": {},
   "outputs": [],
   "source": [
    "from elasticsearch import Elasticsearch\n",
    "\n",
    "# create client obj\n",
    "es_client = Elasticsearch(\n",
    "    \"http://localhost:9200\",\n",
    "    basic_auth=(\"elastic\", \"password\"),\n",
    "    verify_certs=False,\n",
    "    ssl_show_warn=False\n",
    ")"
   ]
  },
  {
   "cell_type": "code",
   "execution_count": 16,
   "id": "92641d94-d61b-4c30-8572-38464a5121b9",
   "metadata": {},
   "outputs": [
    {
     "data": {
      "text/plain": [
       "ObjectApiResponse({'acknowledged': True, 'shards_acknowledged': True, 'index': 'test'})"
      ]
     },
     "execution_count": 16,
     "metadata": {},
     "output_type": "execute_result"
    }
   ],
   "source": [
    "# Elasticsearch 매핑 타입\n",
    "#\n",
    "# text: fields are analyzed and tokenized, ideal for full-text search.\n",
    "# keyword: fields are not analyzed and are used for exact matches, aggregations, and sorting.\n",
    "# date: date and time.\n",
    "# long: Numeric value.\n",
    "# boolean: True or False.\n",
    "# nested: Nested objects or arrays.\n",
    "\n",
    "# tokenizer: splits text into individual terms or tokens.\n",
    "# analyzer: tokenizer + filter. Built-in analyzers: 'standard', 'simple', 'whitespace', etc.\n",
    "\n",
    "# index test data\n",
    "index = 'test'\n",
    "\n",
    "mapping = {\n",
    "    \"settings\": {\n",
    "        \"analysis\": {\n",
    "            \"analyzer\": {\n",
    "                \"custom_analyzer\": {\n",
    "                    \"type\": \"custom\",\n",
    "                    \"tokenizer\": \"standard\",\n",
    "                    \"filter\": [\"lowercase\"]\n",
    "                }\n",
    "            }\n",
    "        }\n",
    "    },\n",
    "    \"mappings\": {\n",
    "        \"properties\": {\n",
    "            \"title\": {\"type\": \"text\"},\n",
    "            \"content\": {\n",
    "                \"type\": \"text\",\n",
    "                \"analyzer\": \"custom_analyzer\"\n",
    "            }\n",
    "        }\n",
    "    }\n",
    "}\n",
    "\n",
    "es_client.indices.create(index=index, body=mapping)"
   ]
  },
  {
   "cell_type": "code",
   "execution_count": 17,
   "id": "f9308243-45d7-4210-bfdc-9321b880ae06",
   "metadata": {},
   "outputs": [
    {
     "name": "stdout",
     "output_type": "stream",
     "text": [
      "{'test': {'mappings': {'properties': {'content': {'type': 'text', 'analyzer': 'custom_analyzer'}, 'title': {'type': 'text'}}}}}\n"
     ]
    }
   ],
   "source": [
    "current_mapping = es_client.indices.get_mapping(index=index)\n",
    "print(current_mapping)"
   ]
  },
  {
   "cell_type": "code",
   "execution_count": 24,
   "id": "7301d519-e4ab-4fca-9a9a-b93ccd70af5c",
   "metadata": {},
   "outputs": [
    {
     "data": {
      "text/plain": [
       "ObjectApiResponse({'tokens': [{'token': 'i', 'start_offset': 0, 'end_offset': 1, 'type': '<ALPHANUM>', 'position': 0}, {'token': 'like', 'start_offset': 2, 'end_offset': 6, 'type': '<ALPHANUM>', 'position': 1}, {'token': 'apple', 'start_offset': 7, 'end_offset': 12, 'type': '<ALPHANUM>', 'position': 2}]})"
      ]
     },
     "execution_count": 24,
     "metadata": {},
     "output_type": "execute_result"
    }
   ],
   "source": [
    "# Analyzer example\n",
    "\n",
    "es_client.indices.analyze(\n",
    "    body={\n",
    "        \"tokenizer\": \"standard\",\n",
    "        \"filter\" : [\"lowercase\"],\n",
    "        \"text\" : 'I like Apple'\n",
    "    }\n",
    ")"
   ]
  },
  {
   "cell_type": "code",
   "execution_count": 18,
   "id": "9da3bac0-db35-4613-97b5-3d513b2520ad",
   "metadata": {},
   "outputs": [
    {
     "name": "stdout",
     "output_type": "stream",
     "text": [
      "Successfully indexed 1 documents\n"
     ]
    }
   ],
   "source": [
    "from elasticsearch.helpers import bulk\n",
    "\n",
    "documents = [\n",
    "    {\n",
    "        '_index': index,\n",
    "        '_id': 1,\n",
    "        '_source': {\n",
    "            'title': 'Opinon',\n",
    "            'content': 'I like Apple'\n",
    "        }\n",
    "    }\n",
    "    # more document...\n",
    "]\n",
    "\n",
    "success, _ = bulk(es_client, documents)\n",
    "print(f\"Successfully indexed {success} documents\")"
   ]
  },
  {
   "cell_type": "code",
   "execution_count": 22,
   "id": "53cb83af-16c6-4db3-a584-1c13b08501d8",
   "metadata": {},
   "outputs": [
    {
     "data": {
      "text/plain": [
       "ObjectApiResponse({'tokens': [{'token': 'I', 'start_offset': 0, 'end_offset': 1, 'type': '<ALPHANUM>', 'position': 0}, {'token': 'like', 'start_offset': 2, 'end_offset': 6, 'type': '<ALPHANUM>', 'position': 1}, {'token': 'Apple', 'start_offset': 7, 'end_offset': 12, 'type': '<ALPHANUM>', 'position': 2}]})"
      ]
     },
     "execution_count": 22,
     "metadata": {},
     "output_type": "execute_result"
    }
   ],
   "source": []
  },
  {
   "cell_type": "code",
   "execution_count": 21,
   "id": "97e3b3f3-4b39-4659-9b76-254323e3d30d",
   "metadata": {},
   "outputs": [
    {
     "data": {
      "text/plain": [
       "{'total': {'value': 1, 'relation': 'eq'},\n",
       " 'max_score': 1.0,\n",
       " 'hits': [{'_index': 'test',\n",
       "   '_id': '1',\n",
       "   '_score': 1.0,\n",
       "   '_source': {'title': 'Opinon', 'content': 'I like Apple'}}]}"
      ]
     },
     "execution_count": 21,
     "metadata": {},
     "output_type": "execute_result"
    }
   ],
   "source": [
    "# Prefix matching\n",
    "\n",
    "query = {\n",
    "\t'query': {\n",
    "\t\t'prefix': {\n",
    "\t\t\t'content': 'appl'\n",
    "\t\t}\n",
    "\t}\n",
    "}\n",
    "\n",
    "result = es_client.search(index=index, body=query)\n",
    "result['hits']"
   ]
  },
  {
   "cell_type": "code",
   "execution_count": 19,
   "id": "a2d817a0-458d-4a48-b950-49387921a80a",
   "metadata": {},
   "outputs": [
    {
     "data": {
      "text/plain": [
       "{'total': {'value': 1, 'relation': 'eq'},\n",
       " 'max_score': 0.2876821,\n",
       " 'hits': [{'_index': 'test',\n",
       "   '_id': '1',\n",
       "   '_score': 0.2876821,\n",
       "   '_source': {'title': 'Opinon', 'content': 'I like Apple'}}]}"
      ]
     },
     "execution_count": 19,
     "metadata": {},
     "output_type": "execute_result"
    }
   ],
   "source": [
    "# Exact matching\n",
    "\n",
    "query = {\n",
    "\t'query': {\n",
    "\t\t'match': {\n",
    "\t\t\t'content': 'apple'\n",
    "\t\t}\n",
    "\t}\n",
    "}\n",
    "\n",
    "result = es_client.search(index=index, body=query)\n",
    "result['hits']"
   ]
  },
  {
   "cell_type": "code",
   "execution_count": 20,
   "id": "ef81b527-cdf9-4773-9040-2a728480b8ca",
   "metadata": {},
   "outputs": [
    {
     "data": {
      "text/plain": [
       "{'total': {'value': 0, 'relation': 'eq'}, 'max_score': None, 'hits': []}"
      ]
     },
     "execution_count": 20,
     "metadata": {},
     "output_type": "execute_result"
    }
   ],
   "source": [
    "# Exact matching fails\n",
    "\n",
    "query = {\n",
    "\t'query': {\n",
    "\t\t'match': {\n",
    "\t\t\t'content': 'appl'\n",
    "\t\t}\n",
    "\t}\n",
    "}\n",
    "\n",
    "result = es_client.search(index=index, body=query)\n",
    "result['hits']"
   ]
  },
  {
   "cell_type": "code",
   "execution_count": 39,
   "id": "3de8c2fa-8bf0-40e3-a621-047932e88b62",
   "metadata": {},
   "outputs": [
    {
     "data": {
      "text/plain": [
       "{'total': {'value': 1, 'relation': 'eq'},\n",
       " 'max_score': 0.5753642,\n",
       " 'hits': [{'_index': 'test',\n",
       "   '_id': '1',\n",
       "   '_score': 0.5753642,\n",
       "   '_source': {'title': 'Opinon', 'content': 'I like Apple'}}]}"
      ]
     },
     "execution_count": 39,
     "metadata": {},
     "output_type": "execute_result"
    }
   ],
   "source": [
    "# Phrase matching\n",
    "\n",
    "query = {\n",
    "  'query': {\n",
    "    'match_phrase': {\n",
    "      'content': 'i like'\n",
    "    }\n",
    "  }\n",
    "}\n",
    "\n",
    "result = es_client.search(index=index, body=query)\n",
    "result['hits']"
   ]
  },
  {
   "cell_type": "code",
   "execution_count": 31,
   "id": "3fc535ae-e33b-4317-90e0-00f5aa97e560",
   "metadata": {},
   "outputs": [
    {
     "data": {
      "text/plain": [
       "{'total': {'value': 1, 'relation': 'eq'},\n",
       " 'max_score': 0.14384104,\n",
       " 'hits': [{'_index': 'test',\n",
       "   '_id': '1',\n",
       "   '_score': 0.14384104,\n",
       "   '_source': {'title': 'Opinon', 'content': 'I like Apple'}}]}"
      ]
     },
     "execution_count": 31,
     "metadata": {},
     "output_type": "execute_result"
    }
   ],
   "source": [
    "# Fuzzy matching\n",
    "\n",
    "query = {\n",
    "  'query': {\n",
    "    'fuzzy': {\n",
    "      'content': {\n",
    "        'value': 'aapl',\n",
    "        'fuzziness': 2 # max edit distance 2\n",
    "      }\n",
    "    }\n",
    "  }\n",
    "}\n",
    "\n",
    "result = es_client.search(index=index, body=query)\n",
    "result['hits']"
   ]
  },
  {
   "cell_type": "markdown",
   "id": "6a42ead1-547a-4c43-9677-654763b4e58a",
   "metadata": {},
   "source": [
    "### Query Language"
   ]
  },
  {
   "cell_type": "code",
   "execution_count": 37,
   "id": "e2d16dde-28f3-4ddb-9909-714153c7e37e",
   "metadata": {},
   "outputs": [
    {
     "data": {
      "text/plain": [
       "{'total': {'value': 1, 'relation': 'eq'},\n",
       " 'max_score': 0.5753642,\n",
       " 'hits': [{'_index': 'test',\n",
       "   '_id': '1',\n",
       "   '_score': 0.5753642,\n",
       "   '_source': {'title': 'Opinon', 'content': 'I like Apple'}}]}"
      ]
     },
     "execution_count": 37,
     "metadata": {},
     "output_type": "execute_result"
    }
   ],
   "source": [
    "query = {\n",
    "  \"query\": {\n",
    "    \"query_string\": {\n",
    "      \"query\": \"(title:opinon) AND (content:apple) OR (content:orange)\"\n",
    "    }\n",
    "  }\n",
    "}\n",
    "\n",
    "result = es_client.search(index=index, body=query)\n",
    "result['hits']"
   ]
  },
  {
   "cell_type": "markdown",
   "id": "ec600ad0-3a9f-4f99-bd51-22f9c03669d7",
   "metadata": {},
   "source": [
    "### Search Algorithm"
   ]
  },
  {
   "cell_type": "code",
   "execution_count": 88,
   "id": "5447a953-5f36-4ec9-a393-5f5c0006ad4e",
   "metadata": {},
   "outputs": [],
   "source": [
    "mock_documents = [\n",
    "    {'page': '1', 'content': 'Quest'},\n",
    "    {'page': '2', 'content': 'Quest P'},\n",
    "    {'page': '3', 'content': 'Quest Pro'},\n",
    "    {'page': '4', 'content': 'Quest Pro 2'},\n",
    "    {'page': '5', 'content': 'Quest Quest Pro Pro'},\n",
    "    {'page': '6', 'content': 'Quest Quest Quest Pro Pro Pro'},\n",
    "]"
   ]
  },
  {
   "cell_type": "code",
   "execution_count": 45,
   "id": "c7aa4135-b803-4e2d-89da-f59a372ba918",
   "metadata": {},
   "outputs": [
    {
     "name": "stdout",
     "output_type": "stream",
     "text": [
      "document 0: '['quest']'\n",
      "    tf score: 1.0\n",
      "    idf score: 1.0\n",
      "    tf_idf score:1.0\n",
      "document 1: '['quest', 'p']'\n",
      "    tf score: 0.5\n",
      "    idf score: 1.0\n",
      "    tf_idf score:0.5\n",
      "document 2: '['quest', 'pro']'\n",
      "    tf score: 0.5\n",
      "    idf score: 1.0\n",
      "    tf_idf score:0.5\n",
      "document 3: '['quest', 'pro', '2']'\n",
      "    tf score: 0.3333333333333333\n",
      "    idf score: 1.0\n",
      "    tf_idf score:0.3333333333333333\n",
      "document 4: '['quest', 'quest', 'pro', 'pro']'\n",
      "    tf score: 0.5\n",
      "    idf score: 1.0\n",
      "    tf_idf score:0.5\n",
      "document 5: '['quest', 'quest', 'quest', 'pro', 'pro', 'pro']'\n",
      "    tf score: 0.5\n",
      "    idf score: 1.0\n",
      "    tf_idf score:0.5\n"
     ]
    }
   ],
   "source": [
    "from math import log\n",
    "\n",
    "# Compute with TF-IDF score\n",
    "\n",
    "# Measures how often a term appears in a document\n",
    "# The more frequently a term appears, the higher its contribution to the relevance score\n",
    "def term_frequency(word, document):\n",
    "    return document.count(word) / len(document)\n",
    "tf = term_frequency\n",
    "\n",
    "# Measures the importance of a term across all documents\n",
    "# Terms that appear in many documents have lower IDF values, reducing their impact on the relevance score\n",
    "def inverse_document_frequency(word, corpus):\n",
    "    count_of_documents = len(corpus) + 1\n",
    "    count_of_documents_with_word = sum([1 for doc in corpus if word in doc]) + 1\n",
    "    idf = log(count_of_documents/count_of_documents_with_word, 10) + 1\n",
    "    return idf\n",
    "idf = inverse_document_frequency\n",
    "\n",
    "def TF_IDF(word, document, corpus):\n",
    "    return tf(word, document) * idf(word, corpus)\n",
    "\n",
    "\n",
    "scored_documents = mock_documents.copy()\n",
    "corpus = [document['content'].lower().split() for document in documents]\n",
    "\n",
    "\n",
    "word = 'quest'\n",
    "\n",
    "for i, document in enumerate(corpus):\n",
    "    tf_score = tf(word, document)\n",
    "    idf_score = idf(word, corpus)\n",
    "    tf_idf_score = TF_IDF(word, document, corpus)    \n",
    "    print(\"document %s: '%s'\\n    tf score: %s\\n    idf score: %s\\n    tf_idf score:%s\"%(i, document, tf_score, idf_score, tf_idf_score))"
   ]
  },
  {
   "cell_type": "code",
   "execution_count": 47,
   "id": "d7f74f9e-812d-4373-9fa4-d8eba316123a",
   "metadata": {},
   "outputs": [
    {
     "name": "stdout",
     "output_type": "stream",
     "text": [
      "Successfully indexed 6 documents\n"
     ]
    }
   ],
   "source": [
    "# Index with BM25 score\n",
    "# BM25 scores documents based on their contents\n",
    "\n",
    "# TF-IDF\n",
    "# TF = document.count(word) / len(document)\n",
    "# IDF = log10(count_of_documents/count_of_documents_with_word) + 1\n",
    "\n",
    "# BM25\n",
    "# BM25_TF = ( TF * (k1 + 1) ) / ( TF + (k1 * (1 - b + b * (document_length / avg_document_length)) ) )\n",
    "# BM25_IDF = ln(1 + (count_of_documents - count_of_documents_with_word + 0.5) / (count_of_documents_with_word + 0.5))\n",
    "# k1: limits how much a single query term can affect the score of a given document\n",
    "# b: multiplier for (document_length / avg_document_length)\n",
    "\n",
    "\n",
    "# Final score is TF(q) * IDF(q) for each query term\n",
    "\n",
    "index = 'tf-idf-test'\n",
    "mapping = {\n",
    "    \"settings\": {\n",
    "        \"number_of_shards\": 1,\n",
    "        \"index\" : {\n",
    "            \"similarity\" : {\n",
    "              \"default\" : {\n",
    "                \"type\" : \"BM25\",\n",
    "                \"b\": 0.75, # default value\n",
    "                \"k1\": 1\n",
    "              }\n",
    "            }\n",
    "        }\n",
    "    },\n",
    "    \"mappings\": {\n",
    "        \"properties\": {\n",
    "            \"page\": {\"type\": \"text\"}\n",
    "            \"content\": {\"type\": \"text\"}\n",
    "        }\n",
    "    }\n",
    "}\n",
    "\n",
    "es_client.indices.create(index=index, body=mapping)\n",
    "\n",
    "documents = [ {\"_index\": index, \"_id\": i+1, \"_source\": document } for i, document in enumerate(mock_documents) ]\n",
    "\n",
    "success, _ = bulk(es_client, documents)\n",
    "print(f\"Successfully indexed {success} documents\")"
   ]
  },
  {
   "cell_type": "code",
   "execution_count": 48,
   "id": "3d5ffe71-20a6-44dd-bc64-8be425fe7090",
   "metadata": {},
   "outputs": [
    {
     "data": {
      "text/plain": [
       "{'total': {'value': 6, 'relation': 'eq'},\n",
       " 'max_score': 0.09881063,\n",
       " 'hits': [{'_index': 'tf-idf-test',\n",
       "   '_id': '1',\n",
       "   '_score': 0.09881063,\n",
       "   '_source': {'content': 'Quest'}},\n",
       "  {'_index': 'tf-idf-test',\n",
       "   '_id': '6',\n",
       "   '_score': 0.09361008,\n",
       "   '_source': {'content': 'Quest Quest Quest Pro Pro Pro'}},\n",
       "  {'_index': 'tf-idf-test',\n",
       "   '_id': '5',\n",
       "   '_score': 0.091209814,\n",
       "   '_source': {'content': 'Quest Quest Pro Pro'}},\n",
       "  {'_index': 'tf-idf-test',\n",
       "   '_id': '2',\n",
       "   '_score': 0.08469483,\n",
       "   '_source': {'content': 'Quest P'}},\n",
       "  {'_index': 'tf-idf-test',\n",
       "   '_id': '3',\n",
       "   '_score': 0.08469483,\n",
       "   '_source': {'content': 'Quest Pro'}},\n",
       "  {'_index': 'tf-idf-test',\n",
       "   '_id': '4',\n",
       "   '_score': 0.074107975,\n",
       "   '_source': {'content': 'Quest Pro 2'}}]}"
      ]
     },
     "execution_count": 48,
     "metadata": {},
     "output_type": "execute_result"
    }
   ],
   "source": [
    "query = {\n",
    "\t'query': {\n",
    "\t\t'match': {\n",
    "\t\t\t'content': 'quest'\n",
    "\t\t}\n",
    "\t}\n",
    "}\n",
    "\n",
    "result = es_client.search(index=index, body=query)\n",
    "result['hits']"
   ]
  },
  {
   "cell_type": "code",
   "execution_count": 68,
   "id": "db622ff8-154f-4807-81d1-686f58fa3949",
   "metadata": {},
   "outputs": [
    {
     "name": "stdout",
     "output_type": "stream",
     "text": [
      "1: 0.41298080309368673\n",
      "2: 0.28573657349462706\n",
      "3: 0.2005169984116864\n",
      "4: 0.040140625000000006\n",
      "5: 0.025000000000000005\n",
      "6: 0.035625000000000004\n",
      "[{'page': '1', 'content': 'Quest', 'pagerank': 0.41298080309368673}, {'page': '2', 'content': 'Quest P', 'pagerank': 0.28573657349462706}, {'page': '3', 'content': 'Quest Pro', 'pagerank': 0.2005169984116864}, {'page': '4', 'content': 'Quest Pro 2', 'pagerank': 0.040140625000000006}, {'page': '5', 'content': 'Quest Quest Pro Pro', 'pagerank': 0.025000000000000005}, {'page': '6', 'content': 'Quest Quest Quest Pro Pro Pro', 'pagerank': 0.035625000000000004}]\n"
     ]
    }
   ],
   "source": [
    "# Compute with PageRank score\n",
    "\n",
    "# PageRank formula\n",
    "# Specify the in-neighbors of the node, which is all of its parents\n",
    "# Sum up the proportional rank from all of its in-neighbors\n",
    "# Calculate the probability of randomly walking out the links with damping factor d\n",
    "# Update the PageRank with the sum of proportional rank and random walk\n",
    "\n",
    "# Damping factor: Probability of following a link (typically set to 0.85).\n",
    "\n",
    "def page_rank(links, damping_factor=0.85, max_iterations=100, convergence_tol=1e-6):\n",
    "    num_pages = len(links)\n",
    "    # initial scores\n",
    "    pagerank_scores = {page: 1.0 / num_pages for page in links}\n",
    "\n",
    "    for _ in range(max_iterations):\n",
    "        new_pagerank_scores = {}\n",
    "        total_residual = 0\n",
    "\n",
    "        # iterate over each page\n",
    "        for page in links:\n",
    "            # calculate the contribution from incoming links\n",
    "            incoming_contribution = sum(pagerank_scores[in_link] / len(links[in_link])\n",
    "                                        for in_link in links if page in links[in_link])\n",
    "\n",
    "            # update the PageRank score for the current page\n",
    "            new_pagerank_scores[page] = (1 - damping_factor) / num_pages + damping_factor * incoming_contribution\n",
    "\n",
    "            # Calculate the residual for convergence checking\n",
    "            total_residual += abs(new_pagerank_scores[page] - pagerank_scores[page])\n",
    "\n",
    "        pagerank_scores = new_pagerank_scores\n",
    "\n",
    "        # stop if convergence hit\n",
    "        if total_residual < convergence_tol:\n",
    "            break\n",
    "\n",
    "    return pagerank_scores\n",
    "  \n",
    "# create document relationship\n",
    "graph = {\n",
    "    '1': ['2', '3'],\n",
    "    '2': ['1'],\n",
    "    '3': ['1', '2'],\n",
    "    '4': ['1'],\n",
    "    '5': ['1', '6'],\n",
    "    '6': ['1', '4']\n",
    "}\n",
    "\n",
    "final_scores = page_rank(graph)\n",
    "\n",
    "for page, score in final_scores.items():\n",
    "    print(f'{page}: {score}')\n",
    "\n",
    "# copy PageRank score to documents\n",
    "scored_documents = mock_documents.copy()\n",
    "for i in range(len(scored_documents)):\n",
    "    page_id = scored_documents[i]['page']\n",
    "    scored_documents[i]['pagerank'] = final_scores[page_id] if page_id in final_scores else 0\n",
    "\n",
    "print(scored_documents)"
   ]
  },
  {
   "cell_type": "code",
   "execution_count": 71,
   "id": "a6d44398-58d9-412e-91c2-1d0b93dd05a4",
   "metadata": {},
   "outputs": [
    {
     "name": "stdout",
     "output_type": "stream",
     "text": [
      "Successfully indexed 6 documents\n"
     ]
    }
   ],
   "source": [
    "# Index with PageRank score\n",
    "# PageRank scores documents based on their sources.\n",
    "\n",
    "index = 'pagerank-test'\n",
    "mapping = {\n",
    "    \"mappings\": {\n",
    "        \"properties\": {\n",
    "            \"page\": {\"type\": \"text\"},\n",
    "            \"content\": {\"type\": \"text\"},\n",
    "            \"pagerank\": {\"type\": \"rank_feature\"},\n",
    "        }\n",
    "    }\n",
    "}\n",
    "\n",
    "es_client.indices.create(index=index, body=mapping)\n",
    "\n",
    "documents = [ {\"_index\": index, \"_id\": i+1, \"_source\": document } for i, document in enumerate(scored_documents) ]\n",
    "\n",
    "success, _ = bulk(es_client, documents)\n",
    "print(f\"Successfully indexed {success} documents\")"
   ]
  },
  {
   "cell_type": "code",
   "execution_count": 80,
   "id": "b9709804-8af9-47f4-9833-3c835183f416",
   "metadata": {},
   "outputs": [
    {
     "data": {
      "text/plain": [
       "{'total': {'value': 6, 'relation': 'eq'},\n",
       " 'max_score': 0.8080421,\n",
       " 'hits': [{'_index': 'pagerank-test',\n",
       "   '_id': '1',\n",
       "   '_score': 0.8080421,\n",
       "   '_source': {'page': '1',\n",
       "    'content': 'Quest',\n",
       "    'pagerank': 0.41298080309368673}},\n",
       "  {'_index': 'pagerank-test',\n",
       "   '_id': '2',\n",
       "   '_score': 0.7444232,\n",
       "   '_source': {'page': '2',\n",
       "    'content': 'Quest P',\n",
       "    'pagerank': 0.28573657349462706}},\n",
       "  {'_index': 'pagerank-test',\n",
       "   '_id': '3',\n",
       "   '_score': 0.6715807,\n",
       "   '_source': {'page': '3',\n",
       "    'content': 'Quest Pro',\n",
       "    'pagerank': 0.2005169984116864}},\n",
       "  {'_index': 'pagerank-test',\n",
       "   '_id': '4',\n",
       "   '_score': 0.2902655,\n",
       "   '_source': {'page': '4',\n",
       "    'content': 'Quest Pro 2',\n",
       "    'pagerank': 0.040140625000000006}},\n",
       "  {'_index': 'pagerank-test',\n",
       "   '_id': '6',\n",
       "   '_score': 0.2662397,\n",
       "   '_source': {'page': '6',\n",
       "    'content': 'Quest Quest Quest Pro Pro Pro',\n",
       "    'pagerank': 0.035625000000000004}},\n",
       "  {'_index': 'pagerank-test',\n",
       "   '_id': '5',\n",
       "   '_score': 0.20317936,\n",
       "   '_source': {'page': '5',\n",
       "    'content': 'Quest Quest Pro Pro',\n",
       "    'pagerank': 0.025000000000000005}}]}"
      ]
     },
     "execution_count": 80,
     "metadata": {},
     "output_type": "execute_result"
    }
   ],
   "source": [
    "query = {\n",
    "    'query': {\n",
    "        'rank_feature': {\n",
    "          'field': 'pagerank'\n",
    "        }\n",
    "    }\n",
    "}\n",
    "\n",
    "result = es_client.search(index=index, body=query)\n",
    "result['hits']"
   ]
  },
  {
   "cell_type": "markdown",
   "id": "ededee9e-ff5c-49e0-87a4-b57548aa414a",
   "metadata": {},
   "source": [
    "### Vector Search"
   ]
  },
  {
   "cell_type": "code",
   "execution_count": 82,
   "id": "b6616c3f-ed2e-4cce-ac21-13647970642c",
   "metadata": {
    "scrolled": true
   },
   "outputs": [
    {
     "name": "stdout",
     "output_type": "stream",
     "text": [
      "\u001b[?25lpulling manifest ⠋ \u001b[?25h\u001b[?25l\u001b[2K\u001b[1Gpulling manifest ⠙ \u001b[?25h\u001b[?25l\u001b[2K\u001b[1Gpulling manifest ⠹ \u001b[?25h\u001b[?25l\u001b[2K\u001b[1Gpulling manifest ⠸ \u001b[?25h\u001b[?25l\u001b[2K\u001b[1Gpulling manifest ⠼ \u001b[?25h\u001b[?25l\u001b[2K\u001b[1Gpulling manifest ⠴ \u001b[?25h\u001b[?25l\u001b[2K\u001b[1Gpulling manifest ⠦ \u001b[?25h\u001b[?25l\u001b[2K\u001b[1Gpulling manifest ⠧ \u001b[?25h\u001b[?25l\u001b[2K\u001b[1Gpulling manifest ⠇ \u001b[?25h\u001b[?25l\u001b[2K\u001b[1Gpulling manifest ⠏ \u001b[?25h\u001b[?25l\u001b[2K\u001b[1Gpulling manifest ⠋ \u001b[?25h\u001b[?25l\u001b[2K\u001b[1Gpulling manifest ⠙ \u001b[?25h\u001b[?25l\u001b[2K\u001b[1Gpulling manifest ⠹ \u001b[?25h\u001b[?25l\u001b[2K\u001b[1Gpulling manifest \n",
      "pulling 819c2adf5ce6...   0% ▕                ▏    0 B/669 MB                  \u001b[?25h\u001b[?25l\u001b[2K\u001b[1G\u001b[A\u001b[2K\u001b[1Gpulling manifest \n",
      "pulling 819c2adf5ce6...   0% ▕                ▏ 1.4 MB/669 MB                  \u001b[?25h\u001b[?25l\u001b[2K\u001b[1G\u001b[A\u001b[2K\u001b[1Gpulling manifest \n",
      "pulling 819c2adf5ce6...   1% ▕                ▏ 5.4 MB/669 MB                  \u001b[?25h\u001b[?25l\u001b[2K\u001b[1G\u001b[A\u001b[2K\u001b[1Gpulling manifest \n",
      "pulling 819c2adf5ce6...   1% ▕                ▏ 6.5 MB/669 MB                  \u001b[?25h\u001b[?25l\u001b[2K\u001b[1G\u001b[A\u001b[2K\u001b[1Gpulling manifest \n",
      "pulling 819c2adf5ce6...   2% ▕                ▏  14 MB/669 MB                  \u001b[?25h\u001b[?25l\u001b[2K\u001b[1G\u001b[A\u001b[2K\u001b[1Gpulling manifest \n",
      "pulling 819c2adf5ce6...   3% ▕                ▏  19 MB/669 MB                  \u001b[?25h\u001b[?25l\u001b[2K\u001b[1G\u001b[A\u001b[2K\u001b[1Gpulling manifest \n",
      "pulling 819c2adf5ce6...   3% ▕                ▏  21 MB/669 MB                  \u001b[?25h\u001b[?25l\u001b[2K\u001b[1G\u001b[A\u001b[2K\u001b[1Gpulling manifest \n",
      "pulling 819c2adf5ce6...   4% ▕                ▏  25 MB/669 MB                  \u001b[?25h\u001b[?25l\u001b[2K\u001b[1G\u001b[A\u001b[2K\u001b[1Gpulling manifest \n",
      "pulling 819c2adf5ce6...   5% ▕                ▏  30 MB/669 MB                  \u001b[?25h\u001b[?25l\u001b[2K\u001b[1G\u001b[A\u001b[2K\u001b[1Gpulling manifest \n",
      "pulling 819c2adf5ce6...   5% ▕                ▏  32 MB/669 MB                  \u001b[?25h\u001b[?25l\u001b[2K\u001b[1G\u001b[A\u001b[2K\u001b[1Gpulling manifest \n",
      "pulling 819c2adf5ce6...   6% ▕                ▏  37 MB/669 MB   37 MB/s     16s\u001b[?25h\u001b[?25l\u001b[2K\u001b[1G\u001b[A\u001b[2K\u001b[1Gpulling manifest \n",
      "pulling 819c2adf5ce6...   6% ▕█               ▏  42 MB/669 MB   37 MB/s     16s\u001b[?25h\u001b[?25l\u001b[2K\u001b[1G\u001b[A\u001b[2K\u001b[1Gpulling manifest \n",
      "pulling 819c2adf5ce6...   7% ▕█               ▏  44 MB/669 MB   37 MB/s     16s\u001b[?25h\u001b[?25l\u001b[2K\u001b[1G\u001b[A\u001b[2K\u001b[1Gpulling manifest \n",
      "pulling 819c2adf5ce6...   7% ▕█               ▏  48 MB/669 MB   37 MB/s     16s\u001b[?25h\u001b[?25l\u001b[2K\u001b[1G\u001b[A\u001b[2K\u001b[1Gpulling manifest \n",
      "pulling 819c2adf5ce6...   8% ▕█               ▏  53 MB/669 MB   37 MB/s     16s\u001b[?25h\u001b[?25l\u001b[2K\u001b[1G\u001b[A\u001b[2K\u001b[1Gpulling manifest \n",
      "pulling 819c2adf5ce6...   8% ▕█               ▏  55 MB/669 MB   37 MB/s     16s\u001b[?25h\u001b[?25l\u001b[2K\u001b[1G\u001b[A\u001b[2K\u001b[1Gpulling manifest \n",
      "pulling 819c2adf5ce6...   9% ▕█               ▏  60 MB/669 MB   37 MB/s     16s\u001b[?25h\u001b[?25l\u001b[2K\u001b[1G\u001b[A\u001b[2K\u001b[1Gpulling manifest \n",
      "pulling 819c2adf5ce6...  10% ▕█               ▏  64 MB/669 MB   37 MB/s     16s\u001b[?25h\u001b[?25l\u001b[2K\u001b[1G\u001b[A\u001b[2K\u001b[1Gpulling manifest \n",
      "pulling 819c2adf5ce6...  10% ▕█               ▏  67 MB/669 MB   37 MB/s     16s\u001b[?25h\u001b[?25l\u001b[2K\u001b[1G\u001b[A\u001b[2K\u001b[1Gpulling manifest \n",
      "pulling 819c2adf5ce6...  11% ▕█               ▏  71 MB/669 MB   37 MB/s     15s\u001b[?25h\u001b[?25l\u001b[2K\u001b[1G\u001b[A\u001b[2K\u001b[1Gpulling manifest \n",
      "pulling 819c2adf5ce6...  11% ▕█               ▏  76 MB/669 MB   38 MB/s     15s\u001b[?25h\u001b[?25l\u001b[2K\u001b[1G\u001b[A\u001b[2K\u001b[1Gpulling manifest \n",
      "pulling 819c2adf5ce6...  12% ▕█               ▏  78 MB/669 MB   38 MB/s     15s\u001b[?25h\u001b[?25l\u001b[2K\u001b[1G\u001b[A\u001b[2K\u001b[1Gpulling manifest \n",
      "pulling 819c2adf5ce6...  12% ▕█               ▏  83 MB/669 MB   38 MB/s     15s\u001b[?25h\u001b[?25l\u001b[2K\u001b[1G\u001b[A\u001b[2K\u001b[1Gpulling manifest \n",
      "pulling 819c2adf5ce6...  13% ▕██              ▏  88 MB/669 MB   38 MB/s     15s\u001b[?25h\u001b[?25l\u001b[2K\u001b[1G\u001b[A\u001b[2K\u001b[1Gpulling manifest \n",
      "pulling 819c2adf5ce6...  13% ▕██              ▏  90 MB/669 MB   38 MB/s     15s\u001b[?25h\u001b[?25l\u001b[2K\u001b[1G\u001b[A\u001b[2K\u001b[1Gpulling manifest \n",
      "pulling 819c2adf5ce6...  14% ▕██              ▏  94 MB/669 MB   38 MB/s     15s\u001b[?25h\u001b[?25l\u001b[2K\u001b[1G\u001b[A\u001b[2K\u001b[1Gpulling manifest \n",
      "pulling 819c2adf5ce6...  15% ▕██              ▏  99 MB/669 MB   38 MB/s     14s\u001b[?25h\u001b[?25l\u001b[2K\u001b[1G\u001b[A\u001b[2K\u001b[1Gpulling manifest \n",
      "pulling 819c2adf5ce6...  15% ▕██              ▏ 101 MB/669 MB   38 MB/s     14s\u001b[?25h\u001b[?25l\u001b[2K\u001b[1G\u001b[A\u001b[2K\u001b[1Gpulling manifest \n",
      "pulling 819c2adf5ce6...  16% ▕██              ▏ 106 MB/669 MB   38 MB/s     14s\u001b[?25h\u001b[?25l\u001b[2K\u001b[1G\u001b[A\u001b[2K\u001b[1Gpulling manifest \n",
      "pulling 819c2adf5ce6...  17% ▕██              ▏ 110 MB/669 MB   38 MB/s     14s\u001b[?25h\u001b[?25l\u001b[2K\u001b[1G\u001b[A\u001b[2K\u001b[1Gpulling manifest \n",
      "pulling 819c2adf5ce6...  17% ▕██              ▏ 113 MB/669 MB   38 MB/s     14s\u001b[?25h\u001b[?25l\u001b[2K\u001b[1G\u001b[A\u001b[2K\u001b[1Gpulling manifest \n",
      "pulling 819c2adf5ce6...  18% ▕██              ▏ 117 MB/669 MB   38 MB/s     14s\u001b[?25h\u001b[?25l\u001b[2K\u001b[1G\u001b[A\u001b[2K\u001b[1Gpulling manifest \n",
      "pulling 819c2adf5ce6...  18% ▕██              ▏ 122 MB/669 MB   38 MB/s     14s\u001b[?25h\u001b[?25l\u001b[2K\u001b[1G\u001b[A\u001b[2K\u001b[1Gpulling manifest \n",
      "pulling 819c2adf5ce6...  19% ▕██              ▏ 124 MB/669 MB   38 MB/s     14s\u001b[?25h\u001b[?25l\u001b[2K\u001b[1G\u001b[A\u001b[2K\u001b[1Gpulling manifest \n",
      "pulling 819c2adf5ce6...  19% ▕███             ▏ 129 MB/669 MB   38 MB/s     14s\u001b[?25h\u001b[?25l\u001b[2K\u001b[1G\u001b[A\u001b[2K\u001b[1Gpulling manifest \n",
      "pulling 819c2adf5ce6...  20% ▕███             ▏ 133 MB/669 MB   38 MB/s     13s\u001b[?25h\u001b[?25l\u001b[2K\u001b[1G\u001b[A\u001b[2K\u001b[1Gpulling manifest \n",
      "pulling 819c2adf5ce6...  20% ▕███             ▏ 136 MB/669 MB   38 MB/s     13s\u001b[?25h\u001b[?25l\u001b[2K\u001b[1G\u001b[A\u001b[2K\u001b[1Gpulling manifest \n",
      "pulling 819c2adf5ce6...  21% ▕███             ▏ 140 MB/669 MB   38 MB/s     13s\u001b[?25h\u001b[?25l\u001b[2K\u001b[1G\u001b[A\u001b[2K\u001b[1Gpulling manifest \n",
      "pulling 819c2adf5ce6...  22% ▕███             ▏ 145 MB/669 MB   38 MB/s     13s\u001b[?25h\u001b[?25l\u001b[2K\u001b[1G\u001b[A\u001b[2K\u001b[1Gpulling manifest \n",
      "pulling 819c2adf5ce6...  22% ▕███             ▏ 147 MB/669 MB   38 MB/s     13s\u001b[?25h\u001b[?25l\u001b[2K\u001b[1G\u001b[A\u001b[2K\u001b[1Gpulling manifest \n",
      "pulling 819c2adf5ce6...  23% ▕███             ▏ 152 MB/669 MB   38 MB/s     13s\u001b[?25h\u001b[?25l\u001b[2K\u001b[1G\u001b[A\u001b[2K\u001b[1Gpulling manifest \n",
      "pulling 819c2adf5ce6...  23% ▕███             ▏ 156 MB/669 MB   38 MB/s     13s\u001b[?25h\u001b[?25l\u001b[2K\u001b[1G\u001b[A\u001b[2K\u001b[1Gpulling manifest \n",
      "pulling 819c2adf5ce6...  24% ▕███             ▏ 159 MB/669 MB   38 MB/s     13s\u001b[?25h\u001b[?25l\u001b[2K\u001b[1G\u001b[A\u001b[2K\u001b[1Gpulling manifest \n",
      "pulling 819c2adf5ce6...  24% ▕███             ▏ 163 MB/669 MB   38 MB/s     13s\u001b[?25h\u001b[?25l\u001b[2K\u001b[1G\u001b[A\u001b[2K\u001b[1Gpulling manifest \n",
      "pulling 819c2adf5ce6...  25% ▕████            ▏ 168 MB/669 MB   38 MB/s     12s\u001b[?25h\u001b[?25l\u001b[2K\u001b[1G\u001b[A\u001b[2K\u001b[1Gpulling manifest \n",
      "pulling 819c2adf5ce6...  25% ▕████            ▏ 170 MB/669 MB   38 MB/s     12s\u001b[?25h\u001b[?25l\u001b[2K\u001b[1G\u001b[A\u001b[2K\u001b[1Gpulling manifest \n",
      "pulling 819c2adf5ce6...  26% ▕████            ▏ 175 MB/669 MB   38 MB/s     12s\u001b[?25h\u001b[?25l\u001b[2K\u001b[1G\u001b[A\u001b[2K\u001b[1Gpulling manifest \n",
      "pulling 819c2adf5ce6...  27% ▕████            ▏ 179 MB/669 MB   38 MB/s     12s\u001b[?25h\u001b[?25l\u001b[2K\u001b[1G\u001b[A\u001b[2K\u001b[1Gpulling manifest \n",
      "pulling 819c2adf5ce6...  27% ▕████            ▏ 182 MB/669 MB   38 MB/s     12s\u001b[?25h\u001b[?25l\u001b[2K\u001b[1G\u001b[A\u001b[2K\u001b[1Gpulling manifest \n",
      "pulling 819c2adf5ce6...  28% ▕████            ▏ 186 MB/669 MB   38 MB/s     12s\u001b[?25h\u001b[?25l\u001b[2K\u001b[1G\u001b[A\u001b[2K\u001b[1Gpulling manifest \n",
      "pulling 819c2adf5ce6...  29% ▕████            ▏ 191 MB/669 MB   38 MB/s     12s\u001b[?25h\u001b[?25l\u001b[2K\u001b[1G\u001b[A\u001b[2K\u001b[1Gpulling manifest \n",
      "pulling 819c2adf5ce6...  29% ▕████            ▏ 193 MB/669 MB   38 MB/s     12s\u001b[?25h\u001b[?25l\u001b[2K\u001b[1G\u001b[A\u001b[2K\u001b[1Gpulling manifest \n",
      "pulling 819c2adf5ce6...  30% ▕████            ▏ 198 MB/669 MB   38 MB/s     12s\u001b[?25h\u001b[?25l\u001b[2K\u001b[1G\u001b[A\u001b[2K\u001b[1Gpulling manifest \n",
      "pulling 819c2adf5ce6...  30% ▕████            ▏ 202 MB/669 MB   38 MB/s     12s\u001b[?25h\u001b[?25l\u001b[2K\u001b[1G\u001b[A\u001b[2K\u001b[1Gpulling manifest \n",
      "pulling 819c2adf5ce6...  31% ▕████            ▏ 205 MB/669 MB   38 MB/s     11s\u001b[?25h\u001b[?25l\u001b[2K\u001b[1G\u001b[A\u001b[2K\u001b[1Gpulling manifest \n",
      "pulling 819c2adf5ce6...  31% ▕█████           ▏ 209 MB/669 MB   38 MB/s     11s\u001b[?25h\u001b[?25l\u001b[2K\u001b[1G\u001b[A\u001b[2K\u001b[1Gpulling manifest \n",
      "pulling 819c2adf5ce6...  32% ▕█████           ▏ 214 MB/669 MB   38 MB/s     11s\u001b[?25h\u001b[?25l\u001b[2K\u001b[1G\u001b[A\u001b[2K\u001b[1Gpulling manifest \n",
      "pulling 819c2adf5ce6...  32% ▕█████           ▏ 216 MB/669 MB   38 MB/s     11s\u001b[?25h\u001b[?25l\u001b[2K\u001b[1G\u001b[A\u001b[2K\u001b[1Gpulling manifest \n",
      "pulling 819c2adf5ce6...  33% ▕█████           ▏ 221 MB/669 MB   38 MB/s     11s\u001b[?25h\u001b[?25l\u001b[2K\u001b[1G\u001b[A\u001b[2K\u001b[1Gpulling manifest \n",
      "pulling 819c2adf5ce6...  34% ▕█████           ▏ 225 MB/669 MB   38 MB/s     11s\u001b[?25h\u001b[?25l\u001b[2K\u001b[1G\u001b[A\u001b[2K\u001b[1Gpulling manifest \n",
      "pulling 819c2adf5ce6...  34% ▕█████           ▏ 228 MB/669 MB   38 MB/s     11s\u001b[?25h\u001b[?25l\u001b[2K\u001b[1G\u001b[A\u001b[2K\u001b[1Gpulling manifest \n",
      "pulling 819c2adf5ce6...  34% ▕█████           ▏ 230 MB/669 MB   38 MB/s     11s\u001b[?25h\u001b[?25l\u001b[2K\u001b[1G\u001b[A\u001b[2K\u001b[1Gpulling manifest \n",
      "pulling 819c2adf5ce6...  35% ▕█████           ▏ 237 MB/669 MB   38 MB/s     11s\u001b[?25h\u001b[?25l\u001b[2K\u001b[1G\u001b[A\u001b[2K\u001b[1Gpulling manifest \n",
      "pulling 819c2adf5ce6...  36% ▕█████           ▏ 239 MB/669 MB   38 MB/s     11s\u001b[?25h\u001b[?25l\u001b[2K\u001b[1G\u001b[A\u001b[2K\u001b[1Gpulling manifest \n",
      "pulling 819c2adf5ce6...  36% ▕█████           ▏ 244 MB/669 MB   38 MB/s     11s\u001b[?25h\u001b[?25l\u001b[2K\u001b[1G\u001b[A\u001b[2K\u001b[1Gpulling manifest \n",
      "pulling 819c2adf5ce6...  37% ▕█████           ▏ 248 MB/669 MB   38 MB/s     10s\u001b[?25h\u001b[?25l\u001b[2K\u001b[1G\u001b[A\u001b[2K\u001b[1Gpulling manifest \n",
      "pulling 819c2adf5ce6...  38% ▕██████          ▏ 251 MB/669 MB   38 MB/s     10s\u001b[?25h\u001b[?25l\u001b[2K\u001b[1G\u001b[A\u001b[2K\u001b[1Gpulling manifest \n",
      "pulling 819c2adf5ce6...  38% ▕██████          ▏ 255 MB/669 MB   38 MB/s     10s\u001b[?25h\u001b[?25l\u001b[2K\u001b[1G\u001b[A\u001b[2K\u001b[1Gpulling manifest \n",
      "pulling 819c2adf5ce6...  39% ▕██████          ▏ 260 MB/669 MB   38 MB/s     10s\u001b[?25h\u001b[?25l\u001b[2K\u001b[1G\u001b[A\u001b[2K\u001b[1Gpulling manifest \n",
      "pulling 819c2adf5ce6...  39% ▕██████          ▏ 262 MB/669 MB   38 MB/s     10s\u001b[?25h\u001b[?25l\u001b[2K\u001b[1G\u001b[A\u001b[2K\u001b[1Gpulling manifest \n",
      "pulling 819c2adf5ce6...  40% ▕██████          ▏ 267 MB/669 MB   38 MB/s     10s\u001b[?25h\u001b[?25l\u001b[2K\u001b[1G\u001b[A\u001b[2K\u001b[1Gpulling manifest \n",
      "pulling 819c2adf5ce6...  41% ▕██████          ▏ 271 MB/669 MB   38 MB/s     10s\u001b[?25h\u001b[?25l\u001b[2K\u001b[1G\u001b[A\u001b[2K\u001b[1Gpulling manifest \n",
      "pulling 819c2adf5ce6...  41% ▕██████          ▏ 274 MB/669 MB   38 MB/s     10s\u001b[?25h\u001b[?25l\u001b[2K\u001b[1G\u001b[A\u001b[2K\u001b[1Gpulling manifest \n",
      "pulling 819c2adf5ce6...  42% ▕██████          ▏ 278 MB/669 MB   38 MB/s     10s\u001b[?25h\u001b[?25l\u001b[2K\u001b[1G\u001b[A\u001b[2K\u001b[1Gpulling manifest \n",
      "pulling 819c2adf5ce6...  42% ▕██████          ▏ 283 MB/669 MB   38 MB/s      9s\u001b[?25h\u001b[?25l\u001b[2K\u001b[1G\u001b[A\u001b[2K\u001b[1Gpulling manifest \n",
      "pulling 819c2adf5ce6...  43% ▕██████          ▏ 285 MB/669 MB   38 MB/s      9s\u001b[?25h\u001b[?25l\u001b[2K\u001b[1G\u001b[A\u001b[2K\u001b[1Gpulling manifest \n",
      "pulling 819c2adf5ce6...  43% ▕██████          ▏ 290 MB/669 MB   38 MB/s      9s\u001b[?25h\u001b[?25l\u001b[2K\u001b[1G\u001b[A\u001b[2K\u001b[1Gpulling manifest \n",
      "pulling 819c2adf5ce6...  44% ▕███████         ▏ 294 MB/669 MB   38 MB/s      9s\u001b[?25h\u001b[?25l\u001b[2K\u001b[1G\u001b[A\u001b[2K\u001b[1Gpulling manifest \n",
      "pulling 819c2adf5ce6...  44% ▕███████         ▏ 297 MB/669 MB   38 MB/s      9s\u001b[?25h\u001b[?25l\u001b[2K\u001b[1G\u001b[A\u001b[2K\u001b[1Gpulling manifest \n",
      "pulling 819c2adf5ce6...  45% ▕███████         ▏ 301 MB/669 MB   38 MB/s      9s\u001b[?25h\u001b[?25l\u001b[2K\u001b[1G\u001b[A\u001b[2K\u001b[1Gpulling manifest \n",
      "pulling 819c2adf5ce6...  46% ▕███████         ▏ 306 MB/669 MB   38 MB/s      9s\u001b[?25h\u001b[?25l\u001b[2K\u001b[1G\u001b[A\u001b[2K\u001b[1Gpulling manifest \n",
      "pulling 819c2adf5ce6...  46% ▕███████         ▏ 308 MB/669 MB   38 MB/s      9s\u001b[?25h\u001b[?25l\u001b[2K\u001b[1G\u001b[A\u001b[2K\u001b[1Gpulling manifest \n",
      "pulling 819c2adf5ce6...  47% ▕███████         ▏ 313 MB/669 MB   38 MB/s      9s\u001b[?25h\u001b[?25l\u001b[2K\u001b[1G\u001b[A\u001b[2K\u001b[1Gpulling manifest \n",
      "pulling 819c2adf5ce6...  47% ▕███████         ▏ 317 MB/669 MB   38 MB/s      9s\u001b[?25h\u001b[?25l\u001b[2K\u001b[1G\u001b[A\u001b[2K\u001b[1Gpulling manifest \n",
      "pulling 819c2adf5ce6...  48% ▕███████         ▏ 320 MB/669 MB   38 MB/s      8s\u001b[?25h\u001b[?25l\u001b[2K\u001b[1G\u001b[A\u001b[2K\u001b[1Gpulling manifest \n",
      "pulling 819c2adf5ce6...  48% ▕███████         ▏ 324 MB/669 MB   38 MB/s      8s\u001b[?25h\u001b[?25l\u001b[2K\u001b[1G\u001b[A\u001b[2K\u001b[1Gpulling manifest \n",
      "pulling 819c2adf5ce6...  49% ▕███████         ▏ 329 MB/669 MB   38 MB/s      8s\u001b[?25h\u001b[?25l\u001b[2K\u001b[1G\u001b[A\u001b[2K\u001b[1Gpulling manifest \n",
      "pulling 819c2adf5ce6...  50% ▕███████         ▏ 331 MB/669 MB   38 MB/s      8s\u001b[?25h\u001b[?25l\u001b[2K\u001b[1G\u001b[A\u001b[2K\u001b[1Gpulling manifest \n",
      "pulling 819c2adf5ce6...  50% ▕████████        ▏ 336 MB/669 MB   38 MB/s      8s\u001b[?25h\u001b[?25l\u001b[2K\u001b[1G\u001b[A\u001b[2K\u001b[1Gpulling manifest \n",
      "pulling 819c2adf5ce6...  51% ▕████████        ▏ 340 MB/669 MB   38 MB/s      8s\u001b[?25h\u001b[?25l\u001b[2K\u001b[1G\u001b[A\u001b[2K\u001b[1Gpulling manifest \n",
      "pulling 819c2adf5ce6...  51% ▕████████        ▏ 342 MB/669 MB   38 MB/s      8s\u001b[?25h\u001b[?25l\u001b[2K\u001b[1G\u001b[A\u001b[2K\u001b[1Gpulling manifest \n",
      "pulling 819c2adf5ce6...  52% ▕████████        ▏ 347 MB/669 MB   38 MB/s      8s\u001b[?25h\u001b[?25l\u001b[2K\u001b[1G\u001b[A\u001b[2K\u001b[1Gpulling manifest \n",
      "pulling 819c2adf5ce6...  53% ▕████████        ▏ 352 MB/669 MB   38 MB/s      8s\u001b[?25h\u001b[?25l\u001b[2K\u001b[1G\u001b[A\u001b[2K\u001b[1Gpulling manifest \n",
      "pulling 819c2adf5ce6...  53% ▕████████        ▏ 354 MB/669 MB   38 MB/s      8s\u001b[?25h\u001b[?25l\u001b[2K\u001b[1G\u001b[A\u001b[2K\u001b[1Gpulling manifest \n",
      "pulling 819c2adf5ce6...  54% ▕████████        ▏ 358 MB/669 MB   38 MB/s      7s\u001b[?25h\u001b[?25l\u001b[2K\u001b[1G\u001b[A\u001b[2K\u001b[1Gpulling manifest \n",
      "pulling 819c2adf5ce6...  54% ▕████████        ▏ 362 MB/669 MB   38 MB/s      7s\u001b[?25h\u001b[?25l\u001b[2K\u001b[1G\u001b[A\u001b[2K\u001b[1Gpulling manifest \n",
      "pulling 819c2adf5ce6...  55% ▕████████        ▏ 366 MB/669 MB   38 MB/s      7s\u001b[?25h\u001b[?25l\u001b[2K\u001b[1G\u001b[A\u001b[2K\u001b[1Gpulling manifest \n",
      "pulling 819c2adf5ce6...  55% ▕████████        ▏ 370 MB/669 MB   38 MB/s      7s\u001b[?25h\u001b[?25l\u001b[2K\u001b[1G\u001b[A\u001b[2K\u001b[1Gpulling manifest \n",
      "pulling 819c2adf5ce6...  56% ▕████████        ▏ 374 MB/669 MB   38 MB/s      7s\u001b[?25h\u001b[?25l\u001b[2K\u001b[1G\u001b[A\u001b[2K\u001b[1Gpulling manifest \n",
      "pulling 819c2adf5ce6...  56% ▕█████████       ▏ 377 MB/669 MB   38 MB/s      7s\u001b[?25h\u001b[?25l\u001b[2K\u001b[1G\u001b[A\u001b[2K\u001b[1Gpulling manifest \n",
      "pulling 819c2adf5ce6...  57% ▕█████████       ▏ 380 MB/669 MB   38 MB/s      7s\u001b[?25h\u001b[?25l\u001b[2K\u001b[1G\u001b[A\u001b[2K\u001b[1Gpulling manifest \n",
      "pulling 819c2adf5ce6...  57% ▕█████████       ▏ 383 MB/669 MB   38 MB/s      7s\u001b[?25h\u001b[?25l\u001b[2K\u001b[1G\u001b[A\u001b[2K\u001b[1Gpulling manifest \n",
      "pulling 819c2adf5ce6...  57% ▕█████████       ▏ 384 MB/669 MB   38 MB/s      7s\u001b[?25h\u001b[?25l\u001b[2K\u001b[1G\u001b[A\u001b[2K\u001b[1Gpulling manifest \n",
      "pulling 819c2adf5ce6...  58% ▕█████████       ▏ 385 MB/669 MB   38 MB/s      7s\u001b[?25h\u001b[?25l\u001b[2K\u001b[1G\u001b[A\u001b[2K\u001b[1Gpulling manifest \n",
      "pulling 819c2adf5ce6...  58% ▕█████████       ▏ 390 MB/669 MB   38 MB/s      7s\u001b[?25h\u001b[?25l\u001b[2K\u001b[1G\u001b[A\u001b[2K\u001b[1Gpulling manifest \n",
      "pulling 819c2adf5ce6...  59% ▕█████████       ▏ 392 MB/669 MB   38 MB/s      7s\u001b[?25h\u001b[?25l\u001b[2K\u001b[1G\u001b[A\u001b[2K\u001b[1Gpulling manifest \n",
      "pulling 819c2adf5ce6...  59% ▕█████████       ▏ 397 MB/669 MB   38 MB/s      7s\u001b[?25h\u001b[?25l\u001b[2K\u001b[1G\u001b[A\u001b[2K\u001b[1Gpulling manifest \n",
      "pulling 819c2adf5ce6...  60% ▕█████████       ▏ 400 MB/669 MB   38 MB/s      6s\u001b[?25h\u001b[?25l\u001b[2K\u001b[1G\u001b[A\u001b[2K\u001b[1Gpulling manifest \n",
      "pulling 819c2adf5ce6...  60% ▕█████████       ▏ 404 MB/669 MB   38 MB/s      6s\u001b[?25h\u001b[?25l\u001b[2K\u001b[1G\u001b[A\u001b[2K\u001b[1Gpulling manifest \n",
      "pulling 819c2adf5ce6...  61% ▕█████████       ▏ 409 MB/669 MB   38 MB/s      6s\u001b[?25h\u001b[?25l\u001b[2K\u001b[1G\u001b[A\u001b[2K\u001b[1Gpulling manifest \n",
      "pulling 819c2adf5ce6...  62% ▕█████████       ▏ 415 MB/669 MB   38 MB/s      6s\u001b[?25h\u001b[?25l\u001b[2K\u001b[1G\u001b[A\u001b[2K\u001b[1Gpulling manifest \n",
      "pulling 819c2adf5ce6...  62% ▕█████████       ▏ 417 MB/669 MB   38 MB/s      6s\u001b[?25h\u001b[?25l\u001b[2K\u001b[1G\u001b[A\u001b[2K\u001b[1Gpulling manifest \n",
      "pulling 819c2adf5ce6...  63% ▕██████████      ▏ 420 MB/669 MB   38 MB/s      6s\u001b[?25h\u001b[?25l\u001b[2K\u001b[1G\u001b[A\u001b[2K\u001b[1Gpulling manifest \n",
      "pulling 819c2adf5ce6...  63% ▕██████████      ▏ 420 MB/669 MB   38 MB/s      6s\u001b[?25h\u001b[?25l\u001b[2K\u001b[1G\u001b[A\u001b[2K\u001b[1Gpulling manifest \n",
      "pulling 819c2adf5ce6...  64% ▕██████████      ▏ 429 MB/669 MB   38 MB/s      6s\u001b[?25h\u001b[?25l\u001b[2K\u001b[1G\u001b[A\u001b[2K\u001b[1Gpulling manifest \n",
      "pulling 819c2adf5ce6...  65% ▕██████████      ▏ 434 MB/669 MB   38 MB/s      6s\u001b[?25h\u001b[?25l\u001b[2K\u001b[1G\u001b[A\u001b[2K\u001b[1Gpulling manifest \n",
      "pulling 819c2adf5ce6...  66% ▕██████████      ▏ 438 MB/669 MB   38 MB/s      6s\u001b[?25h\u001b[?25l\u001b[2K\u001b[1G\u001b[A\u001b[2K\u001b[1Gpulling manifest \n",
      "pulling 819c2adf5ce6...  66% ▕██████████      ▏ 441 MB/669 MB   38 MB/s      5s\u001b[?25h\u001b[?25l\u001b[2K\u001b[1G\u001b[A\u001b[2K\u001b[1Gpulling manifest \n",
      "pulling 819c2adf5ce6...  67% ▕██████████      ▏ 445 MB/669 MB   38 MB/s      5s\u001b[?25h\u001b[?25l\u001b[2K\u001b[1G\u001b[A\u001b[2K\u001b[1Gpulling manifest \n",
      "pulling 819c2adf5ce6...  67% ▕██████████      ▏ 450 MB/669 MB   38 MB/s      5s\u001b[?25h\u001b[?25l\u001b[2K\u001b[1G\u001b[A\u001b[2K\u001b[1Gpulling manifest \n",
      "pulling 819c2adf5ce6...  68% ▕██████████      ▏ 452 MB/669 MB   38 MB/s      5s\u001b[?25h\u001b[?25l\u001b[2K\u001b[1G\u001b[A\u001b[2K\u001b[1Gpulling manifest \n",
      "pulling 819c2adf5ce6...  68% ▕██████████      ▏ 457 MB/669 MB   38 MB/s      5s\u001b[?25h\u001b[?25l\u001b[2K\u001b[1G\u001b[A\u001b[2K\u001b[1Gpulling manifest \n",
      "pulling 819c2adf5ce6...  69% ▕███████████     ▏ 461 MB/669 MB   38 MB/s      5s\u001b[?25h\u001b[?25l\u001b[2K\u001b[1G\u001b[A\u001b[2K\u001b[1Gpulling manifest \n",
      "pulling 819c2adf5ce6...  69% ▕███████████     ▏ 464 MB/669 MB   38 MB/s      5s\u001b[?25h\u001b[?25l\u001b[2K\u001b[1G\u001b[A\u001b[2K\u001b[1Gpulling manifest \n",
      "pulling 819c2adf5ce6...  70% ▕███████████     ▏ 468 MB/669 MB   38 MB/s      5s\u001b[?25h\u001b[?25l\u001b[2K\u001b[1G\u001b[A\u001b[2K\u001b[1Gpulling manifest \n",
      "pulling 819c2adf5ce6...  71% ▕███████████     ▏ 472 MB/669 MB   38 MB/s      5s\u001b[?25h\u001b[?25l\u001b[2K\u001b[1G\u001b[A\u001b[2K\u001b[1Gpulling manifest \n",
      "pulling 819c2adf5ce6...  71% ▕███████████     ▏ 474 MB/669 MB   38 MB/s      5s\u001b[?25h\u001b[?25l\u001b[2K\u001b[1G\u001b[A\u001b[2K\u001b[1Gpulling manifest \n",
      "pulling 819c2adf5ce6...  72% ▕███████████     ▏ 479 MB/669 MB   38 MB/s      4s\u001b[?25h\u001b[?25l\u001b[2K\u001b[1G\u001b[A\u001b[2K\u001b[1Gpulling manifest \n",
      "pulling 819c2adf5ce6...  72% ▕███████████     ▏ 484 MB/669 MB   38 MB/s      4s\u001b[?25h\u001b[?25l\u001b[2K\u001b[1G\u001b[A\u001b[2K\u001b[1Gpulling manifest \n",
      "pulling 819c2adf5ce6...  73% ▕███████████     ▏ 486 MB/669 MB   38 MB/s      4s\u001b[?25h\u001b[?25l\u001b[2K\u001b[1G\u001b[A\u001b[2K\u001b[1Gpulling manifest \n",
      "pulling 819c2adf5ce6...  73% ▕███████████     ▏ 490 MB/669 MB   38 MB/s      4s\u001b[?25h\u001b[?25l\u001b[2K\u001b[1G\u001b[A\u001b[2K\u001b[1Gpulling manifest \n",
      "pulling 819c2adf5ce6...  74% ▕███████████     ▏ 495 MB/669 MB   38 MB/s      4s\u001b[?25h\u001b[?25l\u001b[2K\u001b[1G\u001b[A\u001b[2K\u001b[1Gpulling manifest \n",
      "pulling 819c2adf5ce6...  74% ▕███████████     ▏ 498 MB/669 MB   38 MB/s      4s\u001b[?25h\u001b[?25l\u001b[2K\u001b[1G\u001b[A\u001b[2K\u001b[1Gpulling manifest \n",
      "pulling 819c2adf5ce6...  75% ▕████████████    ▏ 503 MB/669 MB   38 MB/s      4s\u001b[?25h\u001b[?25l\u001b[2K\u001b[1G\u001b[A\u001b[2K\u001b[1Gpulling manifest \n",
      "pulling 819c2adf5ce6...  76% ▕████████████    ▏ 507 MB/669 MB   38 MB/s      4s\u001b[?25h\u001b[?25l\u001b[2K\u001b[1G\u001b[A\u001b[2K\u001b[1Gpulling manifest \n",
      "pulling 819c2adf5ce6...  76% ▕████████████    ▏ 508 MB/669 MB   38 MB/s      4s\u001b[?25h\u001b[?25l\u001b[2K\u001b[1G\u001b[A\u001b[2K\u001b[1Gpulling manifest \n",
      "pulling 819c2adf5ce6...  76% ▕████████████    ▏ 511 MB/669 MB   38 MB/s      4s\u001b[?25h\u001b[?25l\u001b[2K\u001b[1G\u001b[A\u001b[2K\u001b[1Gpulling manifest \n",
      "pulling 819c2adf5ce6...  77% ▕████████████    ▏ 513 MB/669 MB   38 MB/s      4s\u001b[?25h\u001b[?25l\u001b[2K\u001b[1G\u001b[A\u001b[2K\u001b[1Gpulling manifest \n",
      "pulling 819c2adf5ce6...  77% ▕████████████    ▏ 516 MB/669 MB   38 MB/s      3s\u001b[?25h\u001b[?25l\u001b[2K\u001b[1G\u001b[A\u001b[2K\u001b[1Gpulling manifest \n",
      "pulling 819c2adf5ce6...  78% ▕████████████    ▏ 520 MB/669 MB   38 MB/s      3s\u001b[?25h\u001b[?25l\u001b[2K\u001b[1G\u001b[A\u001b[2K\u001b[1Gpulling manifest \n",
      "pulling 819c2adf5ce6...  78% ▕████████████    ▏ 525 MB/669 MB   38 MB/s      3s\u001b[?25h\u001b[?25l\u001b[2K\u001b[1G\u001b[A\u001b[2K\u001b[1Gpulling manifest \n",
      "pulling 819c2adf5ce6...  79% ▕████████████    ▏ 527 MB/669 MB   38 MB/s      3s\u001b[?25h\u001b[?25l\u001b[2K\u001b[1G\u001b[A\u001b[2K\u001b[1Gpulling manifest \n",
      "pulling 819c2adf5ce6...  80% ▕████████████    ▏ 532 MB/669 MB   38 MB/s      3s\u001b[?25h\u001b[?25l\u001b[2K\u001b[1G\u001b[A\u001b[2K\u001b[1Gpulling manifest \n",
      "pulling 819c2adf5ce6...  80% ▕████████████    ▏ 538 MB/669 MB   38 MB/s      3s\u001b[?25h\u001b[?25l\u001b[2K\u001b[1G\u001b[A\u001b[2K\u001b[1Gpulling manifest \n",
      "pulling 819c2adf5ce6...  81% ▕████████████    ▏ 539 MB/669 MB   38 MB/s      3s\u001b[?25h\u001b[?25l\u001b[2K\u001b[1G\u001b[A\u001b[2K\u001b[1Gpulling manifest \n",
      "pulling 819c2adf5ce6...  82% ▕█████████████   ▏ 545 MB/669 MB   38 MB/s      3s\u001b[?25h\u001b[?25l\u001b[2K\u001b[1G\u001b[A\u001b[2K\u001b[1Gpulling manifest \n",
      "pulling 819c2adf5ce6...  82% ▕█████████████   ▏ 550 MB/669 MB   38 MB/s      3s\u001b[?25h\u001b[?25l\u001b[2K\u001b[1G\u001b[A\u001b[2K\u001b[1Gpulling manifest \n",
      "pulling 819c2adf5ce6...  83% ▕█████████████   ▏ 553 MB/669 MB   38 MB/s      3s\u001b[?25h\u001b[?25l\u001b[2K\u001b[1G\u001b[A\u001b[2K\u001b[1Gpulling manifest \n",
      "pulling 819c2adf5ce6...  83% ▕█████████████   ▏ 558 MB/669 MB   38 MB/s      2s\u001b[?25h\u001b[?25l\u001b[2K\u001b[1G\u001b[A\u001b[2K\u001b[1Gpulling manifest \n",
      "pulling 819c2adf5ce6...  84% ▕█████████████   ▏ 563 MB/669 MB   38 MB/s      2s\u001b[?25h\u001b[?25l\u001b[2K\u001b[1G\u001b[A\u001b[2K\u001b[1Gpulling manifest \n",
      "pulling 819c2adf5ce6...  84% ▕█████████████   ▏ 565 MB/669 MB   38 MB/s      2s\u001b[?25h\u001b[?25l\u001b[2K\u001b[1G\u001b[A\u001b[2K\u001b[1Gpulling manifest \n",
      "pulling 819c2adf5ce6...  85% ▕█████████████   ▏ 570 MB/669 MB   38 MB/s      2s\u001b[?25h\u001b[?25l\u001b[2K\u001b[1G\u001b[A\u001b[2K\u001b[1Gpulling manifest \n",
      "pulling 819c2adf5ce6...  86% ▕█████████████   ▏ 574 MB/669 MB   38 MB/s      2s\u001b[?25h\u001b[?25l\u001b[2K\u001b[1G\u001b[A\u001b[2K\u001b[1Gpulling manifest \n",
      "pulling 819c2adf5ce6...  86% ▕█████████████   ▏ 576 MB/669 MB   38 MB/s      2s\u001b[?25h\u001b[?25l\u001b[2K\u001b[1G\u001b[A\u001b[2K\u001b[1Gpulling manifest \n",
      "pulling 819c2adf5ce6...  87% ▕█████████████   ▏ 581 MB/669 MB   38 MB/s      2s\u001b[?25h\u001b[?25l\u001b[2K\u001b[1G\u001b[A\u001b[2K\u001b[1Gpulling manifest \n",
      "pulling 819c2adf5ce6...  88% ▕██████████████  ▏ 586 MB/669 MB   38 MB/s      2s\u001b[?25h\u001b[?25l\u001b[2K\u001b[1G\u001b[A\u001b[2K\u001b[1Gpulling manifest \n",
      "pulling 819c2adf5ce6...  88% ▕██████████████  ▏ 588 MB/669 MB   38 MB/s      2s\u001b[?25h\u001b[?25l\u001b[2K\u001b[1G\u001b[A\u001b[2K\u001b[1Gpulling manifest \n",
      "pulling 819c2adf5ce6...  89% ▕██████████████  ▏ 593 MB/669 MB   38 MB/s      1s\u001b[?25h\u001b[?25l\u001b[2K\u001b[1G\u001b[A\u001b[2K\u001b[1Gpulling manifest \n",
      "pulling 819c2adf5ce6...  89% ▕██████████████  ▏ 597 MB/669 MB   38 MB/s      1s\u001b[?25h\u001b[?25l\u001b[2K\u001b[1G\u001b[A\u001b[2K\u001b[1Gpulling manifest \n",
      "pulling 819c2adf5ce6...  90% ▕██████████████  ▏ 599 MB/669 MB   38 MB/s      1s\u001b[?25h\u001b[?25l\u001b[2K\u001b[1G\u001b[A\u001b[2K\u001b[1Gpulling manifest \n",
      "pulling 819c2adf5ce6...  90% ▕██████████████  ▏ 604 MB/669 MB   38 MB/s      1s\u001b[?25h\u001b[?25l\u001b[2K\u001b[1G\u001b[A\u001b[2K\u001b[1Gpulling manifest \n",
      "pulling 819c2adf5ce6...  91% ▕██████████████  ▏ 609 MB/669 MB   38 MB/s      1s\u001b[?25h\u001b[?25l\u001b[2K\u001b[1G\u001b[A\u001b[2K\u001b[1Gpulling manifest \n",
      "pulling 819c2adf5ce6...  91% ▕██████████████  ▏ 611 MB/669 MB   38 MB/s      1s\u001b[?25h\u001b[?25l\u001b[2K\u001b[1G\u001b[A\u001b[2K\u001b[1Gpulling manifest \n",
      "pulling 819c2adf5ce6...  92% ▕██████████████  ▏ 615 MB/669 MB   38 MB/s      1s\u001b[?25h\u001b[?25l\u001b[2K\u001b[1G\u001b[A\u001b[2K\u001b[1Gpulling manifest \n",
      "pulling 819c2adf5ce6...  92% ▕██████████████  ▏ 618 MB/669 MB   38 MB/s      1s\u001b[?25h\u001b[?25l\u001b[2K\u001b[1G\u001b[A\u001b[2K\u001b[1Gpulling manifest \n",
      "pulling 819c2adf5ce6...  93% ▕██████████████  ▏ 622 MB/669 MB   38 MB/s      1s\u001b[?25h\u001b[?25l\u001b[2K\u001b[1G\u001b[A\u001b[2K\u001b[1Gpulling manifest \n",
      "pulling 819c2adf5ce6...  94% ▕██████████████  ▏ 627 MB/669 MB   38 MB/s      1s\u001b[?25h\u001b[?25l\u001b[2K\u001b[1G\u001b[A\u001b[2K\u001b[1Gpulling manifest \n",
      "pulling 819c2adf5ce6...  94% ▕███████████████ ▏ 631 MB/669 MB   38 MB/s      0s\u001b[?25h\u001b[?25l\u001b[2K\u001b[1G\u001b[A\u001b[2K\u001b[1Gpulling manifest \n",
      "pulling 819c2adf5ce6...  95% ▕███████████████ ▏ 633 MB/669 MB   38 MB/s      0s\u001b[?25h\u001b[?25l\u001b[2K\u001b[1G\u001b[A\u001b[2K\u001b[1Gpulling manifest \n",
      "pulling 819c2adf5ce6...  95% ▕███████████████ ▏ 636 MB/669 MB   38 MB/s      0s\u001b[?25h\u001b[?25l\u001b[2K\u001b[1G\u001b[A\u001b[2K\u001b[1Gpulling manifest \n",
      "pulling 819c2adf5ce6...  95% ▕███████████████ ▏ 638 MB/669 MB   38 MB/s      0s\u001b[?25h\u001b[?25l\u001b[2K\u001b[1G\u001b[A\u001b[2K\u001b[1Gpulling manifest \n",
      "pulling 819c2adf5ce6...  96% ▕███████████████ ▏ 640 MB/669 MB   38 MB/s      0s\u001b[?25h\u001b[?25l\u001b[2K\u001b[1G\u001b[A\u001b[2K\u001b[1Gpulling manifest \n",
      "pulling 819c2adf5ce6...  96% ▕███████████████ ▏ 643 MB/669 MB   38 MB/s      0s\u001b[?25h\u001b[?25l\u001b[2K\u001b[1G\u001b[A\u001b[2K\u001b[1Gpulling manifest \n",
      "pulling 819c2adf5ce6...  97% ▕███████████████ ▏ 647 MB/669 MB   38 MB/s      0s\u001b[?25h\u001b[?25l\u001b[2K\u001b[1G\u001b[A\u001b[2K\u001b[1Gpulling manifest \n",
      "pulling 819c2adf5ce6...  97% ▕███████████████ ▏ 650 MB/669 MB   37 MB/s      0s\u001b[?25h\u001b[?25l\u001b[2K\u001b[1G\u001b[A\u001b[2K\u001b[1Gpulling manifest \n",
      "pulling 819c2adf5ce6...  98% ▕███████████████ ▏ 655 MB/669 MB   37 MB/s      0s\u001b[?25h\u001b[?25l\u001b[2K\u001b[1G\u001b[A\u001b[2K\u001b[1Gpulling manifest \n",
      "pulling 819c2adf5ce6...  99% ▕███████████████ ▏ 660 MB/669 MB   37 MB/s      0s\u001b[?25h\u001b[?25l\u001b[2K\u001b[1G\u001b[A\u001b[2K\u001b[1Gpulling manifest \n",
      "pulling 819c2adf5ce6...  99% ▕███████████████ ▏ 662 MB/669 MB   37 MB/s      0s\u001b[?25h\u001b[?25l\u001b[2K\u001b[1G\u001b[A\u001b[2K\u001b[1Gpulling manifest \n",
      "pulling 819c2adf5ce6... 100% ▕███████████████ ▏ 668 MB/669 MB   37 MB/s      0s\u001b[?25h\u001b[?25l\u001b[2K\u001b[1G\u001b[A\u001b[2K\u001b[1Gpulling manifest \n",
      "pulling 819c2adf5ce6... 100% ▕████████████████▏ 669 MB                         \u001b[?25h\u001b[?25l\u001b[2K\u001b[1G\u001b[A\u001b[2K\u001b[1Gpulling manifest \n",
      "pulling 819c2adf5ce6... 100% ▕████████████████▏ 669 MB                         \n",
      "pulling c71d239df917... 100% ▕████████████████▏  11 KB                         \u001b[?25h\u001b[?25l\u001b[2K\u001b[1G\u001b[A\u001b[2K\u001b[1G\u001b[A\u001b[2K\u001b[1Gpulling manifest \n",
      "pulling 819c2adf5ce6... 100% ▕████████████████▏ 669 MB                         \n",
      "pulling c71d239df917... 100% ▕████████████████▏  11 KB                         \u001b[?25h\u001b[?25l\u001b[2K\u001b[1G\u001b[A\u001b[2K\u001b[1G\u001b[A\u001b[2K\u001b[1Gpulling manifest \n",
      "pulling 819c2adf5ce6... 100% ▕████████████████▏ 669 MB                         \n",
      "pulling c71d239df917... 100% ▕████████████████▏  11 KB                         \u001b[?25h\u001b[?25l\u001b[2K\u001b[1G\u001b[A\u001b[2K\u001b[1G\u001b[A\u001b[2K\u001b[1Gpulling manifest \n",
      "pulling 819c2adf5ce6... 100% ▕████████████████▏ 669 MB                         \n",
      "pulling c71d239df917... 100% ▕████████████████▏  11 KB                         \u001b[?25h\u001b[?25l\u001b[2K\u001b[1G\u001b[A\u001b[2K\u001b[1G\u001b[A\u001b[2K\u001b[1Gpulling manifest \n",
      "pulling 819c2adf5ce6... 100% ▕████████████████▏ 669 MB                         \n",
      "pulling c71d239df917... 100% ▕████████████████▏  11 KB                         \u001b[?25h\u001b[?25l\u001b[2K\u001b[1G\u001b[A\u001b[2K\u001b[1G\u001b[A\u001b[2K\u001b[1Gpulling manifest \n",
      "pulling 819c2adf5ce6... 100% ▕████████████████▏ 669 MB                         \n",
      "pulling c71d239df917... 100% ▕████████████████▏  11 KB                         \u001b[?25h\u001b[?25l\u001b[2K\u001b[1G\u001b[A\u001b[2K\u001b[1G\u001b[A\u001b[2K\u001b[1Gpulling manifest \n",
      "pulling 819c2adf5ce6... 100% ▕████████████████▏ 669 MB                         \n",
      "pulling c71d239df917... 100% ▕████████████████▏  11 KB                         \u001b[?25h\u001b[?25l\u001b[2K\u001b[1G\u001b[A\u001b[2K\u001b[1G\u001b[A\u001b[2K\u001b[1Gpulling manifest \n",
      "pulling 819c2adf5ce6... 100% ▕████████████████▏ 669 MB                         \n",
      "pulling c71d239df917... 100% ▕████████████████▏  11 KB                         \u001b[?25h\u001b[?25l\u001b[2K\u001b[1G\u001b[A\u001b[2K\u001b[1G\u001b[A\u001b[2K\u001b[1Gpulling manifest \n",
      "pulling 819c2adf5ce6... 100% ▕████████████████▏ 669 MB                         \n",
      "pulling c71d239df917... 100% ▕████████████████▏  11 KB                         \n",
      "pulling b837481ff855...   0% ▕                ▏    0 B/  16 B                  \u001b[?25h\u001b[?25l\u001b[2K\u001b[1G\u001b[A\u001b[2K\u001b[1G\u001b[A\u001b[2K\u001b[1G\u001b[A\u001b[2K\u001b[1Gpulling manifest \n",
      "pulling 819c2adf5ce6... 100% ▕████████████████▏ 669 MB                         \n",
      "pulling c71d239df917... 100% ▕████████████████▏  11 KB                         \n",
      "pulling b837481ff855... 100% ▕████████████████▏   16 B                         \u001b[?25h\u001b[?25l\u001b[2K\u001b[1G\u001b[A\u001b[2K\u001b[1G\u001b[A\u001b[2K\u001b[1G\u001b[A\u001b[2K\u001b[1Gpulling manifest \n",
      "pulling 819c2adf5ce6... 100% ▕████████████████▏ 669 MB                         \n",
      "pulling c71d239df917... 100% ▕████████████████▏  11 KB                         \n",
      "pulling b837481ff855... 100% ▕████████████████▏   16 B                         \u001b[?25h\u001b[?25l\u001b[2K\u001b[1G\u001b[A\u001b[2K\u001b[1G\u001b[A\u001b[2K\u001b[1G\u001b[A\u001b[2K\u001b[1Gpulling manifest \n",
      "pulling 819c2adf5ce6... 100% ▕████████████████▏ 669 MB                         \n",
      "pulling c71d239df917... 100% ▕████████████████▏  11 KB                         \n",
      "pulling b837481ff855... 100% ▕████████████████▏   16 B                         \u001b[?25h\u001b[?25l\u001b[2K\u001b[1G\u001b[A\u001b[2K\u001b[1G\u001b[A\u001b[2K\u001b[1G\u001b[A\u001b[2K\u001b[1Gpulling manifest \n",
      "pulling 819c2adf5ce6... 100% ▕████████████████▏ 669 MB                         \n",
      "pulling c71d239df917... 100% ▕████████████████▏  11 KB                         \n",
      "pulling b837481ff855... 100% ▕████████████████▏   16 B                         \u001b[?25h\u001b[?25l\u001b[2K\u001b[1G\u001b[A\u001b[2K\u001b[1G\u001b[A\u001b[2K\u001b[1G\u001b[A\u001b[2K\u001b[1Gpulling manifest \n",
      "pulling 819c2adf5ce6... 100% ▕████████████████▏ 669 MB                         \n",
      "pulling c71d239df917... 100% ▕████████████████▏  11 KB                         \n",
      "pulling b837481ff855... 100% ▕████████████████▏   16 B                         \u001b[?25h\u001b[?25l\u001b[2K\u001b[1G\u001b[A\u001b[2K\u001b[1G\u001b[A\u001b[2K\u001b[1G\u001b[A\u001b[2K\u001b[1Gpulling manifest \n",
      "pulling 819c2adf5ce6... 100% ▕████████████████▏ 669 MB                         \n",
      "pulling c71d239df917... 100% ▕████████████████▏  11 KB                         \n",
      "pulling b837481ff855... 100% ▕████████████████▏   16 B                         \u001b[?25h\u001b[?25l\u001b[2K\u001b[1G\u001b[A\u001b[2K\u001b[1G\u001b[A\u001b[2K\u001b[1G\u001b[A\u001b[2K\u001b[1Gpulling manifest \n",
      "pulling 819c2adf5ce6... 100% ▕████████████████▏ 669 MB                         \n",
      "pulling c71d239df917... 100% ▕████████████████▏  11 KB                         \n",
      "pulling b837481ff855... 100% ▕████████████████▏   16 B                         \u001b[?25h\u001b[?25l\u001b[2K\u001b[1G\u001b[A\u001b[2K\u001b[1G\u001b[A\u001b[2K\u001b[1G\u001b[A\u001b[2K\u001b[1Gpulling manifest \n",
      "pulling 819c2adf5ce6... 100% ▕████████████████▏ 669 MB                         \n",
      "pulling c71d239df917... 100% ▕████████████████▏  11 KB                         \n",
      "pulling b837481ff855... 100% ▕████████████████▏   16 B                         \u001b[?25h\u001b[?25l\u001b[2K\u001b[1G\u001b[A\u001b[2K\u001b[1G\u001b[A\u001b[2K\u001b[1G\u001b[A\u001b[2K\u001b[1Gpulling manifest \n",
      "pulling 819c2adf5ce6... 100% ▕████████████████▏ 669 MB                         \n",
      "pulling c71d239df917... 100% ▕████████████████▏  11 KB                         \n",
      "pulling b837481ff855... 100% ▕████████████████▏   16 B                         \u001b[?25h\u001b[?25l\u001b[2K\u001b[1G\u001b[A\u001b[2K\u001b[1G\u001b[A\u001b[2K\u001b[1G\u001b[A\u001b[2K\u001b[1Gpulling manifest \n",
      "pulling 819c2adf5ce6... 100% ▕████████████████▏ 669 MB                         \n",
      "pulling c71d239df917... 100% ▕████████████████▏  11 KB                         \n",
      "pulling b837481ff855... 100% ▕████████████████▏   16 B                         \u001b[?25h\u001b[?25l\u001b[2K\u001b[1G\u001b[A\u001b[2K\u001b[1G\u001b[A\u001b[2K\u001b[1G\u001b[A\u001b[2K\u001b[1Gpulling manifest \n",
      "pulling 819c2adf5ce6... 100% ▕████████████████▏ 669 MB                         \n",
      "pulling c71d239df917... 100% ▕████████████████▏  11 KB                         \n",
      "pulling b837481ff855... 100% ▕████████████████▏   16 B                         \u001b[?25h\u001b[?25l\u001b[2K\u001b[1G\u001b[A\u001b[2K\u001b[1G\u001b[A\u001b[2K\u001b[1G\u001b[A\u001b[2K\u001b[1Gpulling manifest \n",
      "pulling 819c2adf5ce6... 100% ▕████████████████▏ 669 MB                         \n",
      "pulling c71d239df917... 100% ▕████████████████▏  11 KB                         \n",
      "pulling b837481ff855... 100% ▕████████████████▏   16 B                         \u001b[?25h\u001b[?25l\u001b[2K\u001b[1G\u001b[A\u001b[2K\u001b[1G\u001b[A\u001b[2K\u001b[1G\u001b[A\u001b[2K\u001b[1Gpulling manifest \n",
      "pulling 819c2adf5ce6... 100% ▕████████████████▏ 669 MB                         \n",
      "pulling c71d239df917... 100% ▕████████████████▏  11 KB                         \n",
      "pulling b837481ff855... 100% ▕████████████████▏   16 B                         \u001b[?25h\u001b[?25l\u001b[2K\u001b[1G\u001b[A\u001b[2K\u001b[1G\u001b[A\u001b[2K\u001b[1G\u001b[A\u001b[2K\u001b[1Gpulling manifest \n",
      "pulling 819c2adf5ce6... 100% ▕████████████████▏ 669 MB                         \n",
      "pulling c71d239df917... 100% ▕████████████████▏  11 KB                         \n",
      "pulling b837481ff855... 100% ▕████████████████▏   16 B                         \u001b[?25h\u001b[?25l\u001b[2K\u001b[1G\u001b[A\u001b[2K\u001b[1G\u001b[A\u001b[2K\u001b[1G\u001b[A\u001b[2K\u001b[1Gpulling manifest \n",
      "pulling 819c2adf5ce6... 100% ▕████████████████▏ 669 MB                         \n",
      "pulling c71d239df917... 100% ▕████████████████▏  11 KB                         \n",
      "pulling b837481ff855... 100% ▕████████████████▏   16 B                         \u001b[?25h\u001b[?25l\u001b[2K\u001b[1G\u001b[A\u001b[2K\u001b[1G\u001b[A\u001b[2K\u001b[1G\u001b[A\u001b[2K\u001b[1Gpulling manifest \n",
      "pulling 819c2adf5ce6... 100% ▕████████████████▏ 669 MB                         \n",
      "pulling c71d239df917... 100% ▕████████████████▏  11 KB                         \n",
      "pulling b837481ff855... 100% ▕████████████████▏   16 B                         \u001b[?25h\u001b[?25l\u001b[2K\u001b[1G\u001b[A\u001b[2K\u001b[1G\u001b[A\u001b[2K\u001b[1G\u001b[A\u001b[2K\u001b[1Gpulling manifest \n",
      "pulling 819c2adf5ce6... 100% ▕████████████████▏ 669 MB                         \n",
      "pulling c71d239df917... 100% ▕████████████████▏  11 KB                         \n",
      "pulling b837481ff855... 100% ▕████████████████▏   16 B                         \u001b[?25h\u001b[?25l\u001b[2K\u001b[1G\u001b[A\u001b[2K\u001b[1G\u001b[A\u001b[2K\u001b[1G\u001b[A\u001b[2K\u001b[1Gpulling manifest \n",
      "pulling 819c2adf5ce6... 100% ▕████████████████▏ 669 MB                         \n",
      "pulling c71d239df917... 100% ▕████████████████▏  11 KB                         \n",
      "pulling b837481ff855... 100% ▕████████████████▏   16 B                         \u001b[?25h\u001b[?25l\u001b[2K\u001b[1G\u001b[A\u001b[2K\u001b[1G\u001b[A\u001b[2K\u001b[1G\u001b[A\u001b[2K\u001b[1Gpulling manifest \n",
      "pulling 819c2adf5ce6... 100% ▕████████████████▏ 669 MB                         \n",
      "pulling c71d239df917... 100% ▕████████████████▏  11 KB                         \n",
      "pulling b837481ff855... 100% ▕████████████████▏   16 B                         \n",
      "pulling 38badd946f91...   0% ▕                ▏    0 B/ 408 B                  \u001b[?25h\u001b[?25l\u001b[2K\u001b[1G\u001b[A\u001b[2K\u001b[1G\u001b[A\u001b[2K\u001b[1G\u001b[A\u001b[2K\u001b[1G\u001b[A\u001b[2K\u001b[1Gpulling manifest \n",
      "pulling 819c2adf5ce6... 100% ▕████████████████▏ 669 MB                         \n",
      "pulling c71d239df917... 100% ▕████████████████▏  11 KB                         \n",
      "pulling b837481ff855... 100% ▕████████████████▏   16 B                         \n",
      "pulling 38badd946f91... 100% ▕████████████████▏  408 B                         \u001b[?25h\u001b[?25l\u001b[2K\u001b[1G\u001b[A\u001b[2K\u001b[1G\u001b[A\u001b[2K\u001b[1G\u001b[A\u001b[2K\u001b[1G\u001b[A\u001b[2K\u001b[1Gpulling manifest \n",
      "pulling 819c2adf5ce6... 100% ▕████████████████▏ 669 MB                         \n",
      "pulling c71d239df917... 100% ▕████████████████▏  11 KB                         \n",
      "pulling b837481ff855... 100% ▕████████████████▏   16 B                         \n",
      "pulling 38badd946f91... 100% ▕████████████████▏  408 B                         \u001b[?25h\u001b[?25l\u001b[2K\u001b[1G\u001b[A\u001b[2K\u001b[1G\u001b[A\u001b[2K\u001b[1G\u001b[A\u001b[2K\u001b[1G\u001b[A\u001b[2K\u001b[1Gpulling manifest \n",
      "pulling 819c2adf5ce6... 100% ▕████████████████▏ 669 MB                         \n",
      "pulling c71d239df917... 100% ▕████████████████▏  11 KB                         \n",
      "pulling b837481ff855... 100% ▕████████████████▏   16 B                         \n",
      "pulling 38badd946f91... 100% ▕████████████████▏  408 B                         \u001b[?25h\u001b[?25l\u001b[2K\u001b[1G\u001b[A\u001b[2K\u001b[1G\u001b[A\u001b[2K\u001b[1G\u001b[A\u001b[2K\u001b[1G\u001b[A\u001b[2K\u001b[1Gpulling manifest \n",
      "pulling 819c2adf5ce6... 100% ▕████████████████▏ 669 MB                         \n",
      "pulling c71d239df917... 100% ▕████████████████▏  11 KB                         \n",
      "pulling b837481ff855... 100% ▕████████████████▏   16 B                         \n",
      "pulling 38badd946f91... 100% ▕████████████████▏  408 B                         \u001b[?25h\u001b[?25l\u001b[2K\u001b[1G\u001b[A\u001b[2K\u001b[1G\u001b[A\u001b[2K\u001b[1G\u001b[A\u001b[2K\u001b[1G\u001b[A\u001b[2K\u001b[1Gpulling manifest \n",
      "pulling 819c2adf5ce6... 100% ▕████████████████▏ 669 MB                         \n",
      "pulling c71d239df917... 100% ▕████████████████▏  11 KB                         \n",
      "pulling b837481ff855... 100% ▕████████████████▏   16 B                         \n",
      "pulling 38badd946f91... 100% ▕████████████████▏  408 B                         \u001b[?25h\u001b[?25l\u001b[2K\u001b[1G\u001b[A\u001b[2K\u001b[1G\u001b[A\u001b[2K\u001b[1G\u001b[A\u001b[2K\u001b[1G\u001b[A\u001b[2K\u001b[1Gpulling manifest \n",
      "pulling 819c2adf5ce6... 100% ▕████████████████▏ 669 MB                         \n",
      "pulling c71d239df917... 100% ▕████████████████▏  11 KB                         \n",
      "pulling b837481ff855... 100% ▕████████████████▏   16 B                         \n",
      "pulling 38badd946f91... 100% ▕████████████████▏  408 B                         \u001b[?25h\u001b[?25l\u001b[2K\u001b[1G\u001b[A\u001b[2K\u001b[1G\u001b[A\u001b[2K\u001b[1G\u001b[A\u001b[2K\u001b[1G\u001b[A\u001b[2K\u001b[1Gpulling manifest \n",
      "pulling 819c2adf5ce6... 100% ▕████████████████▏ 669 MB                         \n",
      "pulling c71d239df917... 100% ▕████████████████▏  11 KB                         \n",
      "pulling b837481ff855... 100% ▕████████████████▏   16 B                         \n",
      "pulling 38badd946f91... 100% ▕████████████████▏  408 B                         \u001b[?25h\u001b[?25l\u001b[2K\u001b[1G\u001b[A\u001b[2K\u001b[1G\u001b[A\u001b[2K\u001b[1G\u001b[A\u001b[2K\u001b[1G\u001b[A\u001b[2K\u001b[1Gpulling manifest \n",
      "pulling 819c2adf5ce6... 100% ▕████████████████▏ 669 MB                         \n",
      "pulling c71d239df917... 100% ▕████████████████▏  11 KB                         \n",
      "pulling b837481ff855... 100% ▕████████████████▏   16 B                         \n",
      "pulling 38badd946f91... 100% ▕████████████████▏  408 B                         \u001b[?25h\u001b[?25l\u001b[2K\u001b[1G\u001b[A\u001b[2K\u001b[1G\u001b[A\u001b[2K\u001b[1G\u001b[A\u001b[2K\u001b[1G\u001b[A\u001b[2K\u001b[1Gpulling manifest \n",
      "pulling 819c2adf5ce6... 100% ▕████████████████▏ 669 MB                         \n",
      "pulling c71d239df917... 100% ▕████████████████▏  11 KB                         \n",
      "pulling b837481ff855... 100% ▕████████████████▏   16 B                         \n",
      "pulling 38badd946f91... 100% ▕████████████████▏  408 B                         \u001b[?25h\u001b[?25l\u001b[2K\u001b[1G\u001b[A\u001b[2K\u001b[1G\u001b[A\u001b[2K\u001b[1G\u001b[A\u001b[2K\u001b[1G\u001b[A\u001b[2K\u001b[1Gpulling manifest \n",
      "pulling 819c2adf5ce6... 100% ▕████████████████▏ 669 MB                         \n",
      "pulling c71d239df917... 100% ▕████████████████▏  11 KB                         \n",
      "pulling b837481ff855... 100% ▕████████████████▏   16 B                         \n",
      "pulling 38badd946f91... 100% ▕████████████████▏  408 B                         \n",
      "verifying sha256 digest ⠋ \u001b[?25h\u001b[?25l\u001b[2K\u001b[1G\u001b[A\u001b[2K\u001b[1G\u001b[A\u001b[2K\u001b[1G\u001b[A\u001b[2K\u001b[1G\u001b[A\u001b[2K\u001b[1G\u001b[A\u001b[2K\u001b[1Gpulling manifest \n",
      "pulling 819c2adf5ce6... 100% ▕████████████████▏ 669 MB                         \n",
      "pulling c71d239df917... 100% ▕████████████████▏  11 KB                         \n",
      "pulling b837481ff855... 100% ▕████████████████▏   16 B                         \n",
      "pulling 38badd946f91... 100% ▕████████████████▏  408 B                         \n",
      "verifying sha256 digest ⠙ \u001b[?25h\u001b[?25l\u001b[2K\u001b[1G\u001b[A\u001b[2K\u001b[1G\u001b[A\u001b[2K\u001b[1G\u001b[A\u001b[2K\u001b[1G\u001b[A\u001b[2K\u001b[1G\u001b[A\u001b[2K\u001b[1Gpulling manifest \n",
      "pulling 819c2adf5ce6... 100% ▕████████████████▏ 669 MB                         \n",
      "pulling c71d239df917... 100% ▕████████████████▏  11 KB                         \n",
      "pulling b837481ff855... 100% ▕████████████████▏   16 B                         \n",
      "pulling 38badd946f91... 100% ▕████████████████▏  408 B                         \n",
      "verifying sha256 digest ⠹ \u001b[?25h\u001b[?25l\u001b[2K\u001b[1G\u001b[A\u001b[2K\u001b[1G\u001b[A\u001b[2K\u001b[1G\u001b[A\u001b[2K\u001b[1G\u001b[A\u001b[2K\u001b[1G\u001b[A\u001b[2K\u001b[1Gpulling manifest \n",
      "pulling 819c2adf5ce6... 100% ▕████████████████▏ 669 MB                         \n",
      "pulling c71d239df917... 100% ▕████████████████▏  11 KB                         \n",
      "pulling b837481ff855... 100% ▕████████████████▏   16 B                         \n",
      "pulling 38badd946f91... 100% ▕████████████████▏  408 B                         \n",
      "verifying sha256 digest ⠸ \u001b[?25h\u001b[?25l\u001b[2K\u001b[1G\u001b[A\u001b[2K\u001b[1G\u001b[A\u001b[2K\u001b[1G\u001b[A\u001b[2K\u001b[1G\u001b[A\u001b[2K\u001b[1G\u001b[A\u001b[2K\u001b[1Gpulling manifest \n",
      "pulling 819c2adf5ce6... 100% ▕████████████████▏ 669 MB                         \n",
      "pulling c71d239df917... 100% ▕████████████████▏  11 KB                         \n",
      "pulling b837481ff855... 100% ▕████████████████▏   16 B                         \n",
      "pulling 38badd946f91... 100% ▕████████████████▏  408 B                         \n",
      "verifying sha256 digest ⠼ \u001b[?25h\u001b[?25l\u001b[2K\u001b[1G\u001b[A\u001b[2K\u001b[1G\u001b[A\u001b[2K\u001b[1G\u001b[A\u001b[2K\u001b[1G\u001b[A\u001b[2K\u001b[1G\u001b[A\u001b[2K\u001b[1Gpulling manifest \n",
      "pulling 819c2adf5ce6... 100% ▕████████████████▏ 669 MB                         \n",
      "pulling c71d239df917... 100% ▕████████████████▏  11 KB                         \n",
      "pulling b837481ff855... 100% ▕████████████████▏   16 B                         \n",
      "pulling 38badd946f91... 100% ▕████████████████▏  408 B                         \n",
      "verifying sha256 digest ⠴ \u001b[?25h\u001b[?25l\u001b[2K\u001b[1G\u001b[A\u001b[2K\u001b[1G\u001b[A\u001b[2K\u001b[1G\u001b[A\u001b[2K\u001b[1G\u001b[A\u001b[2K\u001b[1G\u001b[A\u001b[2K\u001b[1Gpulling manifest \n",
      "pulling 819c2adf5ce6... 100% ▕████████████████▏ 669 MB                         \n",
      "pulling c71d239df917... 100% ▕████████████████▏  11 KB                         \n",
      "pulling b837481ff855... 100% ▕████████████████▏   16 B                         \n",
      "pulling 38badd946f91... 100% ▕████████████████▏  408 B                         \n",
      "verifying sha256 digest \n",
      "writing manifest \n",
      "success \u001b[?25h\n"
     ]
    }
   ],
   "source": [
    "# Use Ollama to download and use embeddings locally\n",
    "# Ollama is a Docker for AI models\n",
    "# https://ollama.com/library/mxbai-embed-large\n",
    "# Embedding Model Benchmark: https://huggingface.co/spaces/mteb/leaderboard\n",
    "\n",
    "# ! pip3 install ollama\n",
    "# ! ollama pull mxbai-embed-large"
   ]
  },
  {
   "cell_type": "code",
   "execution_count": 89,
   "id": "165388fe-b278-47d8-a7ad-e1423a5f6a75",
   "metadata": {},
   "outputs": [
    {
     "name": "stdout",
     "output_type": "stream",
     "text": [
      "Embedding dimension: 1024\n"
     ]
    }
   ],
   "source": [
    "import ollama\n",
    "\n",
    "query = 'quest'\n",
    "res = ollama.embeddings(model='mxbai-embed-large', prompt=query)\n",
    "print(f\"Embedding dimension: {len(res['embedding'])}\")\n",
    "\n",
    "# convert to vectors\n",
    "vectors = []\n",
    "for document in mock_documents:\n",
    "    vector = { 'page': document['page'] }\n",
    "    content = document['content'].lower()\n",
    "    result = ollama.embeddings(model='mxbai-embed-large', prompt=content)\n",
    "    vector['content_vector'] = result['embedding']\n",
    "    vectors.append(vector)"
   ]
  },
  {
   "cell_type": "code",
   "execution_count": 90,
   "id": "6c095206-a5e8-4e51-b392-fbd0223fea5a",
   "metadata": {},
   "outputs": [
    {
     "name": "stdout",
     "output_type": "stream",
     "text": [
      "Successfully indexed 6 documents\n"
     ]
    }
   ],
   "source": [
    "index = 'vector-test'\n",
    "\n",
    "# tuning vector search\n",
    "# https://www.elastic.co/guide/en/elasticsearch/reference/current/tune-knn-search.html\n",
    "mapping = {\n",
    "    \"mappings\": {\n",
    "        \"properties\": {\n",
    "            \"page\": {\"type\": \"text\"},\n",
    "            \"content_vector\": {\n",
    "                \"type\": \"dense_vector\",\n",
    "                \"dims\": 1024,\n",
    "                \"index\": True,\n",
    "                \"similarity\": \"cosine\",\n",
    "                \"index_options\": {\n",
    "                  \"type\": \"int8_hnsw\" # reduce memory requirement\n",
    "                }\n",
    "            },\n",
    "        }\n",
    "    }\n",
    "}\n",
    "\n",
    "# es_client.indices.create(index=index, body=mapping)\n",
    "\n",
    "documents = [ {\"_index\": index, \"_id\": i+1, \"_source\": vector } for i, vector in enumerate(vectors) ]\n",
    "\n",
    "success, _ = bulk(es_client, documents)\n",
    "print(f\"Successfully indexed {success} documents\")"
   ]
  },
  {
   "cell_type": "code",
   "execution_count": 91,
   "id": "e35d0959-1f57-43c3-b8e1-8cdc2d55bd8a",
   "metadata": {},
   "outputs": [
    {
     "data": {
      "text/plain": [
       "{'total': {'value': 2, 'relation': 'eq'},\n",
       " 'max_score': 0.999681,\n",
       " 'hits': [{'_index': 'vector-test',\n",
       "   '_id': '1',\n",
       "   '_score': 0.999681,\n",
       "   'fields': {'page': ['1']}},\n",
       "  {'_index': 'vector-test',\n",
       "   '_id': '2',\n",
       "   '_score': 0.9390633,\n",
       "   'fields': {'page': ['2']}}]}"
      ]
     },
     "execution_count": 91,
     "metadata": {},
     "output_type": "execute_result"
    }
   ],
   "source": [
    "# compute query vector\n",
    "q = 'quest'\n",
    "q_vector = ollama.embeddings(model='mxbai-embed-large', prompt=q)\n",
    "\n",
    "# approximate kNN search\n",
    "# Elasticsearch use Hierarchical Navigable Small World (HNSW) internally\n",
    "# \n",
    "\n",
    "# reduce vector dimension and memory footprint\n",
    "# aviod heavy indexing during query time\n",
    "\n",
    "query = {\n",
    "  \"_source\": False,\n",
    "  \"fields\": [ \"page\" ],\n",
    "  \"knn\": {\n",
    "    \"field\": \"content_vector\",\n",
    "    \"query_vector\": q_vector['embedding'],\n",
    "    \"k\": 2,                           # 2 nearest neighbor\n",
    "    \"num_candidates\": 6               # consider 6 candidates in each shard\n",
    "  }\n",
    "}\n",
    "\n",
    "result = es_client.search(index=index, body=query)\n",
    "result['hits']"
   ]
  }
 ],
 "metadata": {
  "kernelspec": {
   "display_name": "Python-3.9.20",
   "language": "python",
   "name": "python-3.9.20"
  },
  "language_info": {
   "codemirror_mode": {
    "name": "ipython",
    "version": 3
   },
   "file_extension": ".py",
   "mimetype": "text/x-python",
   "name": "python",
   "nbconvert_exporter": "python",
   "pygments_lexer": "ipython3",
   "version": "3.9.20"
  }
 },
 "nbformat": 4,
 "nbformat_minor": 5
}
